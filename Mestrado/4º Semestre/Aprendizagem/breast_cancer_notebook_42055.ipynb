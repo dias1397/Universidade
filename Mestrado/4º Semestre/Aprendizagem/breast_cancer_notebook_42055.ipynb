{
  "nbformat": 4,
  "nbformat_minor": 0,
  "metadata": {
    "kernelspec": {
      "display_name": "Python 3",
      "language": "python",
      "name": "python3"
    },
    "language_info": {
      "codemirror_mode": {
        "name": "ipython",
        "version": 3
      },
      "file_extension": ".py",
      "mimetype": "text/x-python",
      "name": "python",
      "nbconvert_exporter": "python",
      "pygments_lexer": "ipython3",
      "version": "3.7.6"
    },
    "colab": {
      "name": "breast_cancer_notebook_42055.ipynb",
      "provenance": [],
      "collapsed_sections": [],
      "toc_visible": true
    }
  },
  "cells": [
    {
      "cell_type": "markdown",
      "metadata": {
        "id": "pvi89k5p3_NJ",
        "colab_type": "text"
      },
      "source": [
        "<h1>Breast Cancer Research Noteboook</h1>"
      ]
    },
    {
      "cell_type": "markdown",
      "metadata": {
        "id": "KiHpfxUXfqSO",
        "colab_type": "text"
      },
      "source": [
        "Aluno: João Pedro Amaral Dias   \n",
        "Nº: 42055   \n",
        "Disciplina: Aprendizagem   "
      ]
    },
    {
      "cell_type": "markdown",
      "metadata": {
        "id": "ItZ9Pv1xBFrQ",
        "colab_type": "text"
      },
      "source": [
        "- <a href='#1'>1. Análise do Problema</a>  \n",
        "- <a href='#2'>2. Carregar bibliotecas e leitura do dataset</a>  \n",
        "    - <a href='#2.1'>2.1. Carregar bibliotecas</a> \n",
        "    - <a href='#2.2'>2.2. Leitura do dataset</a> \n",
        "    - <a href='#2.3'>2.3. Exemplos</a> \n",
        "    - <a href='#2.4'>2.4. Valores em falta</a> \n",
        "- <a href='#3'>3. Análise do Dataset</a> \n",
        "    - <a href='#3.1'>3.1. Funções Head e describe</a> \n",
        "    - <a href='#3.2'>3.2. Atributos do dataset</a> \n",
        "    - <a href='#3.3'>3.3. Distribuição de atributos</a> \n",
        "    - <a href='#3.4'>3.4. Matriz de coorelação entre atributos</a> \n",
        "- <a href='#4'>4. Algoritmos em estudo</a> \n",
        "    - <a href='#4.1'>4.1. Random Forest (Modelo Lógico)</a> \n",
        "    - <a href='#4.2'>4.2. Support Vector Machines (Modelo Geométrico)</a> \n",
        "    - <a href='#4.3'>4.3. Naives Bayes (Modelo Probabilistico)</a> \n",
        "- <a href='#5'>5. Avaliação</a> \n",
        "    - <a href='#5.1'>5.1. Medida de desempenho</a> \n",
        "    - <a href='#5.2'>5.2. Procedimento de avalição</a> \n",
        "    - <a href='#5.3'>5.3. Função de avalição</a>\n",
        "- <a href='#6'>6. Preparação do dataset</a> \n",
        "    - <a href='#6.1'>6.1. Standarização do dataset</a> \n",
        "    - <a href='#6.2'>6.2. Seleção de atributos</a>\n",
        "    - <a href='#6.3'>6.3. Divisão conjunto de treino e de teste</a>\n",
        "- <a href='#7'>7. Classificador Moda</a> \n",
        "    - <a href='#7.1'>7.1. Fitting</a> \n",
        "    - <a href='#7.2'>7.2. Resultados</a> \n",
        "    - <a href='#7.3'>7.3. Análise</a> \n",
        "- <a href='#8'>8. Classificador Random Forest</a> \n",
        "    - <a href='#8.1'>8.1. Primeira experiência</a> \n",
        "    - <a href='#8.2'>8.2. Fine-Tunning dos parametros</a> \n",
        "    - <a href='#8.3'>8.3. Resultados</a> \n",
        "    - <a href='#8.4'>8.4. Análise</a> \n",
        "- <a href='#9'>9. Classificador SVM</a> \n",
        "    - <a href='#9.1'>9.1. Primeira experiência</a> \n",
        "    - <a href='#9.2'>9.2. Fine-Tunning dos parametros</a> \n",
        "    - <a href='#9.3'>9.3. Resultados</a> \n",
        "    - <a href='#9.4'>9.4. Análise</a> \n",
        "- <a href='#10'>10. Classificador Naive Bayes</a> \n",
        "    - <a href='#10.1'>10.1. Primeira experiência</a> \n",
        "    - <a href='#10.2'>10.2. Fine-Tunning dos parametros</a> \n",
        "    - <a href='#10.3'>10.3. Resultados</a> \n",
        "    - <a href='#10.4'>10.4. Análise</a>\n",
        "- <a href='#11'>11. Resultados nos Conjuntos de Teste</a> \n",
        "    - <a href='#11.1'>11.1. Dataset Inicial</a> \n",
        "    - <a href='#11.2'>11.2. Dataset Optimizado</a>  \n",
        "- <a href='#12'>12. Conclusão</a> "
      ]
    },
    {
      "cell_type": "markdown",
      "metadata": {
        "id": "esymdG3vDtqs",
        "colab_type": "text"
      },
      "source": [
        "# <a id='1'>1. Análise do Problema</a> \n"
      ]
    },
    {
      "cell_type": "markdown",
      "metadata": {
        "id": "sZYKis4N-XsX",
        "colab_type": "text"
      },
      "source": [
        "\n",
        "No ambito deste problema pretende-se desenvolver um modelo, que perante um dataset com\n",
        "informações sobre exames ao cancro da mama, preveja se um tumor é benigno ou maligno. É por\n",
        "isso um problema de classificação binário supervisionado, onde as duas classes em estudo são ‘Benigno’ e\n",
        "‘Maligno’.\n",
        "\n",
        "Na construção do modelo será usado a junção de dois datasets diferentes, BCDR_D01 e\n",
        "BDCR_D02 que possuem dados com os mesmo atributos. Foi assim necessário numa fase inicial juntar os dois ficheiros com auxilio da ferramenta Excel gerando um só dataset."
      ]
    },
    {
      "cell_type": "markdown",
      "metadata": {
        "id": "sXPBfDxFBPTX",
        "colab_type": "text"
      },
      "source": [
        "# <a id='2'>2. Carregar bibliotecas e leitura do dataset</a> "
      ]
    },
    {
      "cell_type": "markdown",
      "metadata": {
        "id": "EaHlOdsmBSQ4",
        "colab_type": "text"
      },
      "source": [
        "## <a id='2.1'>2.1. Carregar bibliotecas</a> "
      ]
    },
    {
      "cell_type": "code",
      "metadata": {
        "id": "NV_fJdIKBv7J",
        "colab_type": "code",
        "colab": {}
      },
      "source": [
        "import numpy as np\n",
        "import pandas as pd\n",
        "import matplotlib.pyplot as plt\n",
        "import seaborn as sns\n",
        "\n",
        "from sklearn.ensemble import RandomForestClassifier\n",
        "from sklearn.svm import SVC\n",
        "from sklearn.naive_bayes import GaussianNB\n",
        "\n",
        "from sklearn.model_selection import RandomizedSearchCV\n",
        "from sklearn.model_selection import GridSearchCV\n",
        "from sklearn.model_selection import StratifiedKFold\n",
        "from sklearn.model_selection import train_test_split\n",
        "\n",
        "from sklearn.impute import KNNImputer\n",
        "from sklearn.metrics import confusion_matrix\n",
        "from sklearn.metrics import f1_score\n",
        "from sklearn.preprocessing import MinMaxScaler\n",
        "from sklearn.feature_selection import SelectKBest\n",
        "from sklearn.feature_selection import chi2\n",
        "\n",
        "from pprint import pprint\n",
        "from scipy import stats "
      ],
      "execution_count": 4,
      "outputs": []
    },
    {
      "cell_type": "markdown",
      "metadata": {
        "id": "KwsTTHkeBqtx",
        "colab_type": "text"
      },
      "source": [
        "## <a id='2.2'>2.2. Leitura do dataset</a>"
      ]
    },
    {
      "cell_type": "code",
      "metadata": {
        "id": "fCPskCqF7-rB",
        "colab_type": "code",
        "colab": {}
      },
      "source": [
        "dataset = pd.read_csv('sample_data/bcdr_d01_do2_features.csv', na_values=['nan'])\n",
        "X = dataset.iloc[:, 1:43].values\n",
        "Y = dataset.iloc[:, 43].values"
      ],
      "execution_count": 5,
      "outputs": []
    },
    {
      "cell_type": "code",
      "metadata": {
        "id": "BouVjtdjFCM7",
        "colab_type": "code",
        "colab": {}
      },
      "source": [
        "dataset['classification'] = dataset['classification'].map({'Malign':1,'Benign':0})"
      ],
      "execution_count": 6,
      "outputs": []
    },
    {
      "cell_type": "markdown",
      "metadata": {
        "id": "ykoVZ40hEa1O",
        "colab_type": "text"
      },
      "source": [
        "De modo a evitar duplicados, todos os registos com os mesmos valores em todos os atributos foram removidos do ficheiro csv final a utilizar, durante o processo de junção dos dois datasets BCDR_D01 e BDCR_D02."
      ]
    },
    {
      "cell_type": "markdown",
      "metadata": {
        "id": "r5EHJlWtB0xn",
        "colab_type": "text"
      },
      "source": [
        "## <a id='2.3'>2.3. Exemplos</a>\n"
      ]
    },
    {
      "cell_type": "code",
      "metadata": {
        "id": "dlsn2NsABfzf",
        "colab_type": "code",
        "colab": {
          "base_uri": "https://localhost:8080/",
          "height": 34
        },
        "outputId": "0b2ea996-dde1-48f5-90d3-0825d5674aad"
      },
      "source": [
        "dataset.shape"
      ],
      "execution_count": 7,
      "outputs": [
        {
          "output_type": "execute_result",
          "data": {
            "text/plain": [
              "(542, 44)"
            ]
          },
          "metadata": {
            "tags": []
          },
          "execution_count": 7
        }
      ]
    },
    {
      "cell_type": "code",
      "metadata": {
        "id": "o7Wt6jCuB_Kn",
        "colab_type": "code",
        "colab": {
          "base_uri": "https://localhost:8080/",
          "height": 85
        },
        "outputId": "443686b5-bd8d-4510-f95c-047ac655d25e"
      },
      "source": [
        "dataset.groupby('classification').size()"
      ],
      "execution_count": 8,
      "outputs": [
        {
          "output_type": "execute_result",
          "data": {
            "text/plain": [
              "classification\n",
              "0    465\n",
              "1     77\n",
              "dtype: int64"
            ]
          },
          "metadata": {
            "tags": []
          },
          "execution_count": 8
        }
      ]
    },
    {
      "cell_type": "markdown",
      "metadata": {
        "id": "gwWhdt1Q9cS0",
        "colab_type": "text"
      },
      "source": [
        "O dataset usado é então composto por 542 exemplos, denominados por segmentações, que incluem\n",
        "dados clínicos e descriptores de imagens geradas durante o exame ao cancro da mama a 193\n",
        "pacientes.\n",
        "\n",
        "A classificação destes exemplos encontra-se distribuida da seguinte forma:\n",
        "* Benigno – 465\n",
        "* Maligno – 77\n"
      ]
    },
    {
      "cell_type": "markdown",
      "metadata": {
        "id": "AD2ssDIzDgP8",
        "colab_type": "text"
      },
      "source": [
        "\n",
        "## <a id='2.4'>2.4. Valores em falta</a>"
      ]
    },
    {
      "cell_type": "code",
      "metadata": {
        "id": "drR4DB0LDYVr",
        "colab_type": "code",
        "colab": {
          "base_uri": "https://localhost:8080/",
          "height": 34
        },
        "outputId": "3f55e481-3f35-4f55-dca6-d6595e1ab8cc"
      },
      "source": [
        "dataset.isnull().sum().sum()"
      ],
      "execution_count": 9,
      "outputs": [
        {
          "output_type": "execute_result",
          "data": {
            "text/plain": [
              "557"
            ]
          },
          "metadata": {
            "tags": []
          },
          "execution_count": 9
        }
      ]
    },
    {
      "cell_type": "markdown",
      "metadata": {
        "id": "ToAi89OiEa1a",
        "colab_type": "text"
      },
      "source": [
        "Visto que o dataset possui registos sem valores em alguns dos atributos, estes valores são preenchidos utilizando a estratégia KNNImputer, que consiste na utilização dos valores vizinhos para o preenchimento dos valores em falta."
      ]
    },
    {
      "cell_type": "code",
      "metadata": {
        "id": "lNkPeqj7EoIA",
        "colab_type": "code",
        "colab": {}
      },
      "source": [
        "imputer = KNNImputer(n_neighbors=2, weights=\"uniform\")\n",
        "dataset[:] = imputer.fit_transform(dataset)"
      ],
      "execution_count": 10,
      "outputs": []
    },
    {
      "cell_type": "markdown",
      "metadata": {
        "id": "r4q1ZBUVF4gk",
        "colab_type": "text"
      },
      "source": [
        "# <a id='3'>3. Análise do Dataset</a> \n",
        "\n"
      ]
    },
    {
      "cell_type": "markdown",
      "metadata": {
        "id": "641UQtb-Ge2d",
        "colab_type": "text"
      },
      "source": [
        "## <a id='3.1'>3.1. Funções Head e Describe</a>"
      ]
    },
    {
      "cell_type": "code",
      "metadata": {
        "id": "OoaJbCirGj6_",
        "colab_type": "code",
        "colab": {
          "base_uri": "https://localhost:8080/",
          "height": 224
        },
        "outputId": "7dfdeae9-4f96-4a54-fb55-624545dc9b06"
      },
      "source": [
        "dataset.head()"
      ],
      "execution_count": 11,
      "outputs": [
        {
          "output_type": "execute_result",
          "data": {
            "text/html": [
              "<div>\n",
              "<style scoped>\n",
              "    .dataframe tbody tr th:only-of-type {\n",
              "        vertical-align: middle;\n",
              "    }\n",
              "\n",
              "    .dataframe tbody tr th {\n",
              "        vertical-align: top;\n",
              "    }\n",
              "\n",
              "    .dataframe thead th {\n",
              "        text-align: right;\n",
              "    }\n",
              "</style>\n",
              "<table border=\"1\" class=\"dataframe\">\n",
              "  <thead>\n",
              "    <tr style=\"text-align: right;\">\n",
              "      <th></th>\n",
              "      <th>patient_id</th>\n",
              "      <th>study_id</th>\n",
              "      <th>series</th>\n",
              "      <th>lesion_id</th>\n",
              "      <th>segmentation_id</th>\n",
              "      <th>image_view</th>\n",
              "      <th>mammography_type</th>\n",
              "      <th>mammography_nodule</th>\n",
              "      <th>mammography_calcification</th>\n",
              "      <th>mammography_microcalcification</th>\n",
              "      <th>mammography_axillary_adenopathy</th>\n",
              "      <th>mammography_architectural_distortion</th>\n",
              "      <th>mammography_stroma_distortion</th>\n",
              "      <th>age</th>\n",
              "      <th>density</th>\n",
              "      <th>i_mean</th>\n",
              "      <th>i_std_dev</th>\n",
              "      <th>i_maximum</th>\n",
              "      <th>i_minimum</th>\n",
              "      <th>i_kurtosis</th>\n",
              "      <th>i_skewness</th>\n",
              "      <th>s_area</th>\n",
              "      <th>s_perimeter</th>\n",
              "      <th>s_x_center_mass</th>\n",
              "      <th>s_y_center_mass</th>\n",
              "      <th>s_circularity</th>\n",
              "      <th>s_elongation</th>\n",
              "      <th>s_form</th>\n",
              "      <th>s_solidity</th>\n",
              "      <th>s_extent</th>\n",
              "      <th>t_energ</th>\n",
              "      <th>t_contr</th>\n",
              "      <th>t_corr</th>\n",
              "      <th>t_sosvh</th>\n",
              "      <th>t_homo</th>\n",
              "      <th>t_savgh</th>\n",
              "      <th>t_svarh</th>\n",
              "      <th>t_senth</th>\n",
              "      <th>t_entro</th>\n",
              "      <th>t_dvarh</th>\n",
              "      <th>t_denth</th>\n",
              "      <th>t_inf1h</th>\n",
              "      <th>t_inf2h</th>\n",
              "      <th>classification</th>\n",
              "    </tr>\n",
              "  </thead>\n",
              "  <tbody>\n",
              "    <tr>\n",
              "      <th>0</th>\n",
              "      <td>2.0</td>\n",
              "      <td>3.0</td>\n",
              "      <td>1.0</td>\n",
              "      <td>5.0</td>\n",
              "      <td>6.0</td>\n",
              "      <td>4.0</td>\n",
              "      <td>1.0</td>\n",
              "      <td>0.0</td>\n",
              "      <td>1.0</td>\n",
              "      <td>0.0</td>\n",
              "      <td>0.0</td>\n",
              "      <td>0.0</td>\n",
              "      <td>0.0</td>\n",
              "      <td>62.0</td>\n",
              "      <td>1.0</td>\n",
              "      <td>0.84966</td>\n",
              "      <td>0.094347</td>\n",
              "      <td>1.0</td>\n",
              "      <td>0.56078</td>\n",
              "      <td>-0.61935</td>\n",
              "      <td>0.13331</td>\n",
              "      <td>758.0</td>\n",
              "      <td>100.9117</td>\n",
              "      <td>0.33148</td>\n",
              "      <td>0.64227</td>\n",
              "      <td>0.93540</td>\n",
              "      <td>0.91348</td>\n",
              "      <td>0.015201</td>\n",
              "      <td>0.97806</td>\n",
              "      <td>0.76411</td>\n",
              "      <td>0.016986</td>\n",
              "      <td>14.9935</td>\n",
              "      <td>-0.000931</td>\n",
              "      <td>740.4655</td>\n",
              "      <td>0.37143</td>\n",
              "      <td>54.1492</td>\n",
              "      <td>2662.4732</td>\n",
              "      <td>2.6950</td>\n",
              "      <td>4.3415</td>\n",
              "      <td>14.9935</td>\n",
              "      <td>2.1367</td>\n",
              "      <td>-0.050623</td>\n",
              "      <td>0.44845</td>\n",
              "      <td>0.0</td>\n",
              "    </tr>\n",
              "    <tr>\n",
              "      <th>1</th>\n",
              "      <td>2.0</td>\n",
              "      <td>3.0</td>\n",
              "      <td>1.0</td>\n",
              "      <td>5.0</td>\n",
              "      <td>7.0</td>\n",
              "      <td>2.0</td>\n",
              "      <td>1.0</td>\n",
              "      <td>0.0</td>\n",
              "      <td>1.0</td>\n",
              "      <td>0.0</td>\n",
              "      <td>0.0</td>\n",
              "      <td>0.0</td>\n",
              "      <td>0.0</td>\n",
              "      <td>62.0</td>\n",
              "      <td>1.0</td>\n",
              "      <td>0.91679</td>\n",
              "      <td>0.099394</td>\n",
              "      <td>1.0</td>\n",
              "      <td>0.51373</td>\n",
              "      <td>0.38072</td>\n",
              "      <td>-1.02000</td>\n",
              "      <td>905.0</td>\n",
              "      <td>111.7401</td>\n",
              "      <td>0.29297</td>\n",
              "      <td>0.47822</td>\n",
              "      <td>0.91084</td>\n",
              "      <td>0.92017</td>\n",
              "      <td>0.014202</td>\n",
              "      <td>0.97838</td>\n",
              "      <td>0.76178</td>\n",
              "      <td>0.041382</td>\n",
              "      <td>20.0630</td>\n",
              "      <td>-0.082696</td>\n",
              "      <td>846.6704</td>\n",
              "      <td>0.38186</td>\n",
              "      <td>57.8790</td>\n",
              "      <td>3071.1647</td>\n",
              "      <td>2.6133</td>\n",
              "      <td>3.9391</td>\n",
              "      <td>20.0630</td>\n",
              "      <td>2.2245</td>\n",
              "      <td>-0.052866</td>\n",
              "      <td>0.43563</td>\n",
              "      <td>0.0</td>\n",
              "    </tr>\n",
              "    <tr>\n",
              "      <th>2</th>\n",
              "      <td>2.0</td>\n",
              "      <td>3.0</td>\n",
              "      <td>1.0</td>\n",
              "      <td>6.0</td>\n",
              "      <td>8.0</td>\n",
              "      <td>3.0</td>\n",
              "      <td>1.0</td>\n",
              "      <td>0.0</td>\n",
              "      <td>1.0</td>\n",
              "      <td>0.0</td>\n",
              "      <td>0.0</td>\n",
              "      <td>0.0</td>\n",
              "      <td>0.0</td>\n",
              "      <td>62.0</td>\n",
              "      <td>1.0</td>\n",
              "      <td>0.93062</td>\n",
              "      <td>0.133860</td>\n",
              "      <td>1.0</td>\n",
              "      <td>0.40000</td>\n",
              "      <td>2.67960</td>\n",
              "      <td>-1.95820</td>\n",
              "      <td>776.0</td>\n",
              "      <td>106.8112</td>\n",
              "      <td>0.74685</td>\n",
              "      <td>0.56400</td>\n",
              "      <td>0.85475</td>\n",
              "      <td>0.73694</td>\n",
              "      <td>0.012679</td>\n",
              "      <td>0.96517</td>\n",
              "      <td>0.67655</td>\n",
              "      <td>0.189040</td>\n",
              "      <td>36.8709</td>\n",
              "      <td>-0.118260</td>\n",
              "      <td>905.8036</td>\n",
              "      <td>0.54930</td>\n",
              "      <td>59.6439</td>\n",
              "      <td>3320.0736</td>\n",
              "      <td>2.2776</td>\n",
              "      <td>2.9462</td>\n",
              "      <td>36.8709</td>\n",
              "      <td>2.1957</td>\n",
              "      <td>-0.075392</td>\n",
              "      <td>0.44985</td>\n",
              "      <td>0.0</td>\n",
              "    </tr>\n",
              "    <tr>\n",
              "      <th>3</th>\n",
              "      <td>2.0</td>\n",
              "      <td>3.0</td>\n",
              "      <td>1.0</td>\n",
              "      <td>6.0</td>\n",
              "      <td>9.0</td>\n",
              "      <td>1.0</td>\n",
              "      <td>1.0</td>\n",
              "      <td>0.0</td>\n",
              "      <td>1.0</td>\n",
              "      <td>0.0</td>\n",
              "      <td>0.0</td>\n",
              "      <td>0.0</td>\n",
              "      <td>0.0</td>\n",
              "      <td>62.0</td>\n",
              "      <td>1.0</td>\n",
              "      <td>0.94725</td>\n",
              "      <td>0.101290</td>\n",
              "      <td>1.0</td>\n",
              "      <td>0.40784</td>\n",
              "      <td>4.68550</td>\n",
              "      <td>-2.22220</td>\n",
              "      <td>837.0</td>\n",
              "      <td>113.0538</td>\n",
              "      <td>0.82773</td>\n",
              "      <td>0.36289</td>\n",
              "      <td>0.82293</td>\n",
              "      <td>0.70624</td>\n",
              "      <td>0.011924</td>\n",
              "      <td>0.94898</td>\n",
              "      <td>0.68832</td>\n",
              "      <td>0.198930</td>\n",
              "      <td>17.4251</td>\n",
              "      <td>-0.016056</td>\n",
              "      <td>932.3142</td>\n",
              "      <td>0.57982</td>\n",
              "      <td>60.7882</td>\n",
              "      <td>3457.9421</td>\n",
              "      <td>2.1277</td>\n",
              "      <td>2.7731</td>\n",
              "      <td>17.4251</td>\n",
              "      <td>1.9692</td>\n",
              "      <td>-0.062953</td>\n",
              "      <td>0.40322</td>\n",
              "      <td>0.0</td>\n",
              "    </tr>\n",
              "    <tr>\n",
              "      <th>4</th>\n",
              "      <td>3.0</td>\n",
              "      <td>4.0</td>\n",
              "      <td>1.0</td>\n",
              "      <td>7.0</td>\n",
              "      <td>10.0</td>\n",
              "      <td>2.0</td>\n",
              "      <td>1.0</td>\n",
              "      <td>1.0</td>\n",
              "      <td>0.0</td>\n",
              "      <td>0.0</td>\n",
              "      <td>0.0</td>\n",
              "      <td>1.0</td>\n",
              "      <td>0.0</td>\n",
              "      <td>74.0</td>\n",
              "      <td>1.0</td>\n",
              "      <td>0.85478</td>\n",
              "      <td>0.096944</td>\n",
              "      <td>1.0</td>\n",
              "      <td>0.54118</td>\n",
              "      <td>-0.98733</td>\n",
              "      <td>-0.14516</td>\n",
              "      <td>35215.0</td>\n",
              "      <td>881.5778</td>\n",
              "      <td>0.13751</td>\n",
              "      <td>0.28846</td>\n",
              "      <td>0.56940</td>\n",
              "      <td>0.63021</td>\n",
              "      <td>0.001972</td>\n",
              "      <td>0.82342</td>\n",
              "      <td>0.53535</td>\n",
              "      <td>0.017609</td>\n",
              "      <td>3.9515</td>\n",
              "      <td>0.777670</td>\n",
              "      <td>774.6703</td>\n",
              "      <td>0.52281</td>\n",
              "      <td>55.3474</td>\n",
              "      <td>2771.1561</td>\n",
              "      <td>3.0068</td>\n",
              "      <td>4.3143</td>\n",
              "      <td>3.9515</td>\n",
              "      <td>1.5656</td>\n",
              "      <td>-0.190550</td>\n",
              "      <td>0.77071</td>\n",
              "      <td>1.0</td>\n",
              "    </tr>\n",
              "  </tbody>\n",
              "</table>\n",
              "</div>"
            ],
            "text/plain": [
              "   patient_id  study_id  series  ...   t_inf1h  t_inf2h  classification\n",
              "0         2.0       3.0     1.0  ... -0.050623  0.44845             0.0\n",
              "1         2.0       3.0     1.0  ... -0.052866  0.43563             0.0\n",
              "2         2.0       3.0     1.0  ... -0.075392  0.44985             0.0\n",
              "3         2.0       3.0     1.0  ... -0.062953  0.40322             0.0\n",
              "4         3.0       4.0     1.0  ... -0.190550  0.77071             1.0\n",
              "\n",
              "[5 rows x 44 columns]"
            ]
          },
          "metadata": {
            "tags": []
          },
          "execution_count": 11
        }
      ]
    },
    {
      "cell_type": "code",
      "metadata": {
        "id": "7EaiVojnGo2R",
        "colab_type": "code",
        "colab": {
          "base_uri": "https://localhost:8080/",
          "height": 1000
        },
        "outputId": "5d4d7d61-3879-48de-d9d7-5892cca8fa50"
      },
      "source": [
        "dataset.describe().T"
      ],
      "execution_count": 12,
      "outputs": [
        {
          "output_type": "execute_result",
          "data": {
            "text/html": [
              "<div>\n",
              "<style scoped>\n",
              "    .dataframe tbody tr th:only-of-type {\n",
              "        vertical-align: middle;\n",
              "    }\n",
              "\n",
              "    .dataframe tbody tr th {\n",
              "        vertical-align: top;\n",
              "    }\n",
              "\n",
              "    .dataframe thead th {\n",
              "        text-align: right;\n",
              "    }\n",
              "</style>\n",
              "<table border=\"1\" class=\"dataframe\">\n",
              "  <thead>\n",
              "    <tr style=\"text-align: right;\">\n",
              "      <th></th>\n",
              "      <th>count</th>\n",
              "      <th>mean</th>\n",
              "      <th>std</th>\n",
              "      <th>min</th>\n",
              "      <th>25%</th>\n",
              "      <th>50%</th>\n",
              "      <th>75%</th>\n",
              "      <th>max</th>\n",
              "    </tr>\n",
              "  </thead>\n",
              "  <tbody>\n",
              "    <tr>\n",
              "      <th>patient_id</th>\n",
              "      <td>542.0</td>\n",
              "      <td>231.736162</td>\n",
              "      <td>157.023217</td>\n",
              "      <td>2.000000</td>\n",
              "      <td>99.000000</td>\n",
              "      <td>199.500000</td>\n",
              "      <td>364.000000</td>\n",
              "      <td>511.000000</td>\n",
              "    </tr>\n",
              "    <tr>\n",
              "      <th>study_id</th>\n",
              "      <td>542.0</td>\n",
              "      <td>325.177122</td>\n",
              "      <td>223.602602</td>\n",
              "      <td>3.000000</td>\n",
              "      <td>137.000000</td>\n",
              "      <td>274.000000</td>\n",
              "      <td>514.250000</td>\n",
              "      <td>844.000000</td>\n",
              "    </tr>\n",
              "    <tr>\n",
              "      <th>series</th>\n",
              "      <td>542.0</td>\n",
              "      <td>1.000000</td>\n",
              "      <td>0.000000</td>\n",
              "      <td>1.000000</td>\n",
              "      <td>1.000000</td>\n",
              "      <td>1.000000</td>\n",
              "      <td>1.000000</td>\n",
              "      <td>1.000000</td>\n",
              "    </tr>\n",
              "    <tr>\n",
              "      <th>lesion_id</th>\n",
              "      <td>542.0</td>\n",
              "      <td>199.684502</td>\n",
              "      <td>113.727656</td>\n",
              "      <td>5.000000</td>\n",
              "      <td>106.000000</td>\n",
              "      <td>195.500000</td>\n",
              "      <td>291.000000</td>\n",
              "      <td>407.000000</td>\n",
              "    </tr>\n",
              "    <tr>\n",
              "      <th>segmentation_id</th>\n",
              "      <td>542.0</td>\n",
              "      <td>392.605166</td>\n",
              "      <td>228.401904</td>\n",
              "      <td>6.000000</td>\n",
              "      <td>200.250000</td>\n",
              "      <td>383.500000</td>\n",
              "      <td>575.750000</td>\n",
              "      <td>807.000000</td>\n",
              "    </tr>\n",
              "    <tr>\n",
              "      <th>image_view</th>\n",
              "      <td>542.0</td>\n",
              "      <td>2.577491</td>\n",
              "      <td>1.113059</td>\n",
              "      <td>1.000000</td>\n",
              "      <td>2.000000</td>\n",
              "      <td>3.000000</td>\n",
              "      <td>4.000000</td>\n",
              "      <td>4.000000</td>\n",
              "    </tr>\n",
              "    <tr>\n",
              "      <th>mammography_type</th>\n",
              "      <td>542.0</td>\n",
              "      <td>1.000000</td>\n",
              "      <td>0.000000</td>\n",
              "      <td>1.000000</td>\n",
              "      <td>1.000000</td>\n",
              "      <td>1.000000</td>\n",
              "      <td>1.000000</td>\n",
              "      <td>1.000000</td>\n",
              "    </tr>\n",
              "    <tr>\n",
              "      <th>mammography_nodule</th>\n",
              "      <td>542.0</td>\n",
              "      <td>0.263838</td>\n",
              "      <td>0.441119</td>\n",
              "      <td>0.000000</td>\n",
              "      <td>0.000000</td>\n",
              "      <td>0.000000</td>\n",
              "      <td>1.000000</td>\n",
              "      <td>1.000000</td>\n",
              "    </tr>\n",
              "    <tr>\n",
              "      <th>mammography_calcification</th>\n",
              "      <td>542.0</td>\n",
              "      <td>0.787823</td>\n",
              "      <td>0.409227</td>\n",
              "      <td>0.000000</td>\n",
              "      <td>1.000000</td>\n",
              "      <td>1.000000</td>\n",
              "      <td>1.000000</td>\n",
              "      <td>1.000000</td>\n",
              "    </tr>\n",
              "    <tr>\n",
              "      <th>mammography_microcalcification</th>\n",
              "      <td>542.0</td>\n",
              "      <td>0.084871</td>\n",
              "      <td>0.278947</td>\n",
              "      <td>0.000000</td>\n",
              "      <td>0.000000</td>\n",
              "      <td>0.000000</td>\n",
              "      <td>0.000000</td>\n",
              "      <td>1.000000</td>\n",
              "    </tr>\n",
              "    <tr>\n",
              "      <th>mammography_axillary_adenopathy</th>\n",
              "      <td>542.0</td>\n",
              "      <td>0.000000</td>\n",
              "      <td>0.000000</td>\n",
              "      <td>0.000000</td>\n",
              "      <td>0.000000</td>\n",
              "      <td>0.000000</td>\n",
              "      <td>0.000000</td>\n",
              "      <td>0.000000</td>\n",
              "    </tr>\n",
              "    <tr>\n",
              "      <th>mammography_architectural_distortion</th>\n",
              "      <td>542.0</td>\n",
              "      <td>0.007380</td>\n",
              "      <td>0.085669</td>\n",
              "      <td>0.000000</td>\n",
              "      <td>0.000000</td>\n",
              "      <td>0.000000</td>\n",
              "      <td>0.000000</td>\n",
              "      <td>1.000000</td>\n",
              "    </tr>\n",
              "    <tr>\n",
              "      <th>mammography_stroma_distortion</th>\n",
              "      <td>542.0</td>\n",
              "      <td>0.047970</td>\n",
              "      <td>0.213901</td>\n",
              "      <td>0.000000</td>\n",
              "      <td>0.000000</td>\n",
              "      <td>0.000000</td>\n",
              "      <td>0.000000</td>\n",
              "      <td>1.000000</td>\n",
              "    </tr>\n",
              "    <tr>\n",
              "      <th>age</th>\n",
              "      <td>542.0</td>\n",
              "      <td>57.922509</td>\n",
              "      <td>10.982489</td>\n",
              "      <td>23.000000</td>\n",
              "      <td>51.000000</td>\n",
              "      <td>58.000000</td>\n",
              "      <td>64.000000</td>\n",
              "      <td>89.000000</td>\n",
              "    </tr>\n",
              "    <tr>\n",
              "      <th>density</th>\n",
              "      <td>542.0</td>\n",
              "      <td>2.322878</td>\n",
              "      <td>0.902857</td>\n",
              "      <td>1.000000</td>\n",
              "      <td>2.000000</td>\n",
              "      <td>2.000000</td>\n",
              "      <td>3.000000</td>\n",
              "      <td>4.000000</td>\n",
              "    </tr>\n",
              "    <tr>\n",
              "      <th>i_mean</th>\n",
              "      <td>542.0</td>\n",
              "      <td>0.747590</td>\n",
              "      <td>0.184459</td>\n",
              "      <td>0.254240</td>\n",
              "      <td>0.605902</td>\n",
              "      <td>0.771805</td>\n",
              "      <td>0.924500</td>\n",
              "      <td>0.993660</td>\n",
              "    </tr>\n",
              "    <tr>\n",
              "      <th>i_std_dev</th>\n",
              "      <td>542.0</td>\n",
              "      <td>0.112010</td>\n",
              "      <td>0.040630</td>\n",
              "      <td>0.026531</td>\n",
              "      <td>0.083890</td>\n",
              "      <td>0.108355</td>\n",
              "      <td>0.134648</td>\n",
              "      <td>0.270180</td>\n",
              "    </tr>\n",
              "    <tr>\n",
              "      <th>i_maximum</th>\n",
              "      <td>542.0</td>\n",
              "      <td>0.958766</td>\n",
              "      <td>0.106667</td>\n",
              "      <td>0.352940</td>\n",
              "      <td>1.000000</td>\n",
              "      <td>1.000000</td>\n",
              "      <td>1.000000</td>\n",
              "      <td>1.000000</td>\n",
              "    </tr>\n",
              "    <tr>\n",
              "      <th>i_minimum</th>\n",
              "      <td>542.0</td>\n",
              "      <td>0.391195</td>\n",
              "      <td>0.153282</td>\n",
              "      <td>0.000000</td>\n",
              "      <td>0.283330</td>\n",
              "      <td>0.386275</td>\n",
              "      <td>0.493140</td>\n",
              "      <td>0.811760</td>\n",
              "    </tr>\n",
              "    <tr>\n",
              "      <th>i_kurtosis</th>\n",
              "      <td>542.0</td>\n",
              "      <td>2.456741</td>\n",
              "      <td>5.054475</td>\n",
              "      <td>-1.682500</td>\n",
              "      <td>-0.369328</td>\n",
              "      <td>0.367130</td>\n",
              "      <td>3.115850</td>\n",
              "      <td>34.070800</td>\n",
              "    </tr>\n",
              "    <tr>\n",
              "      <th>i_skewness</th>\n",
              "      <td>542.0</td>\n",
              "      <td>-0.692136</td>\n",
              "      <td>1.541294</td>\n",
              "      <td>-5.699400</td>\n",
              "      <td>-1.685750</td>\n",
              "      <td>-0.313800</td>\n",
              "      <td>0.276970</td>\n",
              "      <td>4.196400</td>\n",
              "    </tr>\n",
              "    <tr>\n",
              "      <th>s_area</th>\n",
              "      <td>542.0</td>\n",
              "      <td>31219.324723</td>\n",
              "      <td>91074.177073</td>\n",
              "      <td>36.000000</td>\n",
              "      <td>439.250000</td>\n",
              "      <td>1374.500000</td>\n",
              "      <td>14444.500000</td>\n",
              "      <td>829617.000000</td>\n",
              "    </tr>\n",
              "    <tr>\n",
              "      <th>s_perimeter</th>\n",
              "      <td>542.0</td>\n",
              "      <td>504.819868</td>\n",
              "      <td>714.473543</td>\n",
              "      <td>21.071100</td>\n",
              "      <td>84.093700</td>\n",
              "      <td>161.681250</td>\n",
              "      <td>620.859175</td>\n",
              "      <td>4039.815700</td>\n",
              "    </tr>\n",
              "    <tr>\n",
              "      <th>s_x_center_mass</th>\n",
              "      <td>542.0</td>\n",
              "      <td>0.473045</td>\n",
              "      <td>0.286762</td>\n",
              "      <td>0.009568</td>\n",
              "      <td>0.217418</td>\n",
              "      <td>0.387080</td>\n",
              "      <td>0.761825</td>\n",
              "      <td>0.990580</td>\n",
              "    </tr>\n",
              "    <tr>\n",
              "      <th>s_y_center_mass</th>\n",
              "      <td>542.0</td>\n",
              "      <td>0.502448</td>\n",
              "      <td>0.140102</td>\n",
              "      <td>0.129460</td>\n",
              "      <td>0.404175</td>\n",
              "      <td>0.506205</td>\n",
              "      <td>0.602833</td>\n",
              "      <td>0.845230</td>\n",
              "    </tr>\n",
              "    <tr>\n",
              "      <th>s_circularity</th>\n",
              "      <td>542.0</td>\n",
              "      <td>0.703207</td>\n",
              "      <td>0.219768</td>\n",
              "      <td>0.037575</td>\n",
              "      <td>0.598688</td>\n",
              "      <td>0.771555</td>\n",
              "      <td>0.856815</td>\n",
              "      <td>1.058200</td>\n",
              "    </tr>\n",
              "    <tr>\n",
              "      <th>s_elongation</th>\n",
              "      <td>542.0</td>\n",
              "      <td>0.691059</td>\n",
              "      <td>0.214877</td>\n",
              "      <td>0.051678</td>\n",
              "      <td>0.603868</td>\n",
              "      <td>0.742400</td>\n",
              "      <td>0.846740</td>\n",
              "      <td>0.986530</td>\n",
              "    </tr>\n",
              "    <tr>\n",
              "      <th>s_form</th>\n",
              "      <td>542.0</td>\n",
              "      <td>0.011646</td>\n",
              "      <td>0.010337</td>\n",
              "      <td>0.000400</td>\n",
              "      <td>0.002797</td>\n",
              "      <td>0.009380</td>\n",
              "      <td>0.018045</td>\n",
              "      <td>0.058111</td>\n",
              "    </tr>\n",
              "    <tr>\n",
              "      <th>s_solidity</th>\n",
              "      <td>542.0</td>\n",
              "      <td>0.886122</td>\n",
              "      <td>0.137199</td>\n",
              "      <td>0.177870</td>\n",
              "      <td>0.869632</td>\n",
              "      <td>0.938865</td>\n",
              "      <td>0.963332</td>\n",
              "      <td>1.000000</td>\n",
              "    </tr>\n",
              "    <tr>\n",
              "      <th>s_extent</th>\n",
              "      <td>542.0</td>\n",
              "      <td>0.628225</td>\n",
              "      <td>0.153176</td>\n",
              "      <td>0.039199</td>\n",
              "      <td>0.588108</td>\n",
              "      <td>0.672090</td>\n",
              "      <td>0.729462</td>\n",
              "      <td>0.859310</td>\n",
              "    </tr>\n",
              "    <tr>\n",
              "      <th>t_energ</th>\n",
              "      <td>542.0</td>\n",
              "      <td>0.144845</td>\n",
              "      <td>0.222588</td>\n",
              "      <td>0.003303</td>\n",
              "      <td>0.013920</td>\n",
              "      <td>0.025682</td>\n",
              "      <td>0.168200</td>\n",
              "      <td>0.894660</td>\n",
              "    </tr>\n",
              "    <tr>\n",
              "      <th>t_contr</th>\n",
              "      <td>542.0</td>\n",
              "      <td>21.419151</td>\n",
              "      <td>19.177953</td>\n",
              "      <td>0.771640</td>\n",
              "      <td>6.309975</td>\n",
              "      <td>15.677250</td>\n",
              "      <td>32.325075</td>\n",
              "      <td>138.912100</td>\n",
              "    </tr>\n",
              "    <tr>\n",
              "      <th>t_corr</th>\n",
              "      <td>542.0</td>\n",
              "      <td>0.201062</td>\n",
              "      <td>0.348672</td>\n",
              "      <td>-0.561990</td>\n",
              "      <td>-0.050514</td>\n",
              "      <td>0.092824</td>\n",
              "      <td>0.490372</td>\n",
              "      <td>0.933160</td>\n",
              "    </tr>\n",
              "    <tr>\n",
              "      <th>t_sosvh</th>\n",
              "      <td>542.0</td>\n",
              "      <td>628.278193</td>\n",
              "      <td>263.368578</td>\n",
              "      <td>82.006200</td>\n",
              "      <td>405.724025</td>\n",
              "      <td>625.044400</td>\n",
              "      <td>890.471800</td>\n",
              "      <td>1014.802200</td>\n",
              "    </tr>\n",
              "    <tr>\n",
              "      <th>t_homo</th>\n",
              "      <td>542.0</td>\n",
              "      <td>0.495083</td>\n",
              "      <td>0.173318</td>\n",
              "      <td>0.205940</td>\n",
              "      <td>0.368193</td>\n",
              "      <td>0.475655</td>\n",
              "      <td>0.575990</td>\n",
              "      <td>0.953330</td>\n",
              "    </tr>\n",
              "    <tr>\n",
              "      <th>t_savgh</th>\n",
              "      <td>542.0</td>\n",
              "      <td>48.265936</td>\n",
              "      <td>11.413265</td>\n",
              "      <td>18.011900</td>\n",
              "      <td>39.733600</td>\n",
              "      <td>49.162750</td>\n",
              "      <td>59.279450</td>\n",
              "      <td>63.697800</td>\n",
              "    </tr>\n",
              "    <tr>\n",
              "      <th>t_svarh</th>\n",
              "      <td>542.0</td>\n",
              "      <td>2271.356169</td>\n",
              "      <td>1050.514301</td>\n",
              "      <td>257.311000</td>\n",
              "      <td>1382.021575</td>\n",
              "      <td>2173.229300</td>\n",
              "      <td>3277.467350</td>\n",
              "      <td>3995.017900</td>\n",
              "    </tr>\n",
              "    <tr>\n",
              "      <th>t_senth</th>\n",
              "      <td>542.0</td>\n",
              "      <td>2.464721</td>\n",
              "      <td>0.789575</td>\n",
              "      <td>0.332590</td>\n",
              "      <td>2.084400</td>\n",
              "      <td>2.703425</td>\n",
              "      <td>3.057950</td>\n",
              "      <td>3.840800</td>\n",
              "    </tr>\n",
              "    <tr>\n",
              "      <th>t_entro</th>\n",
              "      <td>542.0</td>\n",
              "      <td>3.648582</td>\n",
              "      <td>1.352837</td>\n",
              "      <td>0.399610</td>\n",
              "      <td>2.779212</td>\n",
              "      <td>4.121000</td>\n",
              "      <td>4.644000</td>\n",
              "      <td>6.221000</td>\n",
              "    </tr>\n",
              "    <tr>\n",
              "      <th>t_dvarh</th>\n",
              "      <td>542.0</td>\n",
              "      <td>21.419151</td>\n",
              "      <td>19.177953</td>\n",
              "      <td>0.771640</td>\n",
              "      <td>6.309975</td>\n",
              "      <td>15.677250</td>\n",
              "      <td>32.325075</td>\n",
              "      <td>138.912100</td>\n",
              "    </tr>\n",
              "    <tr>\n",
              "      <th>t_denth</th>\n",
              "      <td>542.0</td>\n",
              "      <td>1.813316</td>\n",
              "      <td>0.538026</td>\n",
              "      <td>0.332590</td>\n",
              "      <td>1.465225</td>\n",
              "      <td>1.804100</td>\n",
              "      <td>2.256875</td>\n",
              "      <td>2.951300</td>\n",
              "    </tr>\n",
              "    <tr>\n",
              "      <th>t_inf1h</th>\n",
              "      <td>542.0</td>\n",
              "      <td>-0.139850</td>\n",
              "      <td>0.112879</td>\n",
              "      <td>-0.684250</td>\n",
              "      <td>-0.188397</td>\n",
              "      <td>-0.103970</td>\n",
              "      <td>-0.059803</td>\n",
              "      <td>-0.010422</td>\n",
              "    </tr>\n",
              "    <tr>\n",
              "      <th>t_inf2h</th>\n",
              "      <td>542.0</td>\n",
              "      <td>0.562720</td>\n",
              "      <td>0.201854</td>\n",
              "      <td>0.060759</td>\n",
              "      <td>0.407885</td>\n",
              "      <td>0.554530</td>\n",
              "      <td>0.728470</td>\n",
              "      <td>0.952930</td>\n",
              "    </tr>\n",
              "    <tr>\n",
              "      <th>classification</th>\n",
              "      <td>542.0</td>\n",
              "      <td>0.142066</td>\n",
              "      <td>0.349441</td>\n",
              "      <td>0.000000</td>\n",
              "      <td>0.000000</td>\n",
              "      <td>0.000000</td>\n",
              "      <td>0.000000</td>\n",
              "      <td>1.000000</td>\n",
              "    </tr>\n",
              "  </tbody>\n",
              "</table>\n",
              "</div>"
            ],
            "text/plain": [
              "                                      count  ...            max\n",
              "patient_id                            542.0  ...     511.000000\n",
              "study_id                              542.0  ...     844.000000\n",
              "series                                542.0  ...       1.000000\n",
              "lesion_id                             542.0  ...     407.000000\n",
              "segmentation_id                       542.0  ...     807.000000\n",
              "image_view                            542.0  ...       4.000000\n",
              "mammography_type                      542.0  ...       1.000000\n",
              "mammography_nodule                    542.0  ...       1.000000\n",
              "mammography_calcification             542.0  ...       1.000000\n",
              "mammography_microcalcification        542.0  ...       1.000000\n",
              "mammography_axillary_adenopathy       542.0  ...       0.000000\n",
              "mammography_architectural_distortion  542.0  ...       1.000000\n",
              "mammography_stroma_distortion         542.0  ...       1.000000\n",
              "age                                   542.0  ...      89.000000\n",
              "density                               542.0  ...       4.000000\n",
              "i_mean                                542.0  ...       0.993660\n",
              "i_std_dev                             542.0  ...       0.270180\n",
              "i_maximum                             542.0  ...       1.000000\n",
              "i_minimum                             542.0  ...       0.811760\n",
              "i_kurtosis                            542.0  ...      34.070800\n",
              "i_skewness                            542.0  ...       4.196400\n",
              "s_area                                542.0  ...  829617.000000\n",
              "s_perimeter                           542.0  ...    4039.815700\n",
              "s_x_center_mass                       542.0  ...       0.990580\n",
              "s_y_center_mass                       542.0  ...       0.845230\n",
              "s_circularity                         542.0  ...       1.058200\n",
              "s_elongation                          542.0  ...       0.986530\n",
              "s_form                                542.0  ...       0.058111\n",
              "s_solidity                            542.0  ...       1.000000\n",
              "s_extent                              542.0  ...       0.859310\n",
              "t_energ                               542.0  ...       0.894660\n",
              "t_contr                               542.0  ...     138.912100\n",
              "t_corr                                542.0  ...       0.933160\n",
              "t_sosvh                               542.0  ...    1014.802200\n",
              "t_homo                                542.0  ...       0.953330\n",
              "t_savgh                               542.0  ...      63.697800\n",
              "t_svarh                               542.0  ...    3995.017900\n",
              "t_senth                               542.0  ...       3.840800\n",
              "t_entro                               542.0  ...       6.221000\n",
              "t_dvarh                               542.0  ...     138.912100\n",
              "t_denth                               542.0  ...       2.951300\n",
              "t_inf1h                               542.0  ...      -0.010422\n",
              "t_inf2h                               542.0  ...       0.952930\n",
              "classification                        542.0  ...       1.000000\n",
              "\n",
              "[44 rows x 8 columns]"
            ]
          },
          "metadata": {
            "tags": []
          },
          "execution_count": 12
        }
      ]
    },
    {
      "cell_type": "markdown",
      "metadata": {
        "id": "xw1fBzB5GH2-",
        "colab_type": "text"
      },
      "source": [
        "## <a id='3.2'>3.2. Atributos do Dataset</a>"
      ]
    },
    {
      "cell_type": "code",
      "metadata": {
        "id": "rX3GhiRME6LJ",
        "colab_type": "code",
        "colab": {
          "base_uri": "https://localhost:8080/",
          "height": 884
        },
        "outputId": "7cc191d7-49e5-420b-ff4b-8b7fcb062ce5"
      },
      "source": [
        "dataset.info()"
      ],
      "execution_count": 13,
      "outputs": [
        {
          "output_type": "stream",
          "text": [
            "<class 'pandas.core.frame.DataFrame'>\n",
            "RangeIndex: 542 entries, 0 to 541\n",
            "Data columns (total 44 columns):\n",
            " #   Column                                Non-Null Count  Dtype  \n",
            "---  ------                                --------------  -----  \n",
            " 0   patient_id                            542 non-null    float64\n",
            " 1   study_id                              542 non-null    float64\n",
            " 2   series                                542 non-null    float64\n",
            " 3   lesion_id                             542 non-null    float64\n",
            " 4   segmentation_id                       542 non-null    float64\n",
            " 5   image_view                            542 non-null    float64\n",
            " 6   mammography_type                      542 non-null    float64\n",
            " 7   mammography_nodule                    542 non-null    float64\n",
            " 8   mammography_calcification             542 non-null    float64\n",
            " 9   mammography_microcalcification        542 non-null    float64\n",
            " 10  mammography_axillary_adenopathy       542 non-null    float64\n",
            " 11  mammography_architectural_distortion  542 non-null    float64\n",
            " 12  mammography_stroma_distortion         542 non-null    float64\n",
            " 13  age                                   542 non-null    float64\n",
            " 14  density                               542 non-null    float64\n",
            " 15  i_mean                                542 non-null    float64\n",
            " 16  i_std_dev                             542 non-null    float64\n",
            " 17  i_maximum                             542 non-null    float64\n",
            " 18  i_minimum                             542 non-null    float64\n",
            " 19  i_kurtosis                            542 non-null    float64\n",
            " 20  i_skewness                            542 non-null    float64\n",
            " 21  s_area                                542 non-null    float64\n",
            " 22  s_perimeter                           542 non-null    float64\n",
            " 23  s_x_center_mass                       542 non-null    float64\n",
            " 24  s_y_center_mass                       542 non-null    float64\n",
            " 25  s_circularity                         542 non-null    float64\n",
            " 26  s_elongation                          542 non-null    float64\n",
            " 27  s_form                                542 non-null    float64\n",
            " 28  s_solidity                            542 non-null    float64\n",
            " 29  s_extent                              542 non-null    float64\n",
            " 30  t_energ                               542 non-null    float64\n",
            " 31  t_contr                               542 non-null    float64\n",
            " 32  t_corr                                542 non-null    float64\n",
            " 33  t_sosvh                               542 non-null    float64\n",
            " 34  t_homo                                542 non-null    float64\n",
            " 35  t_savgh                               542 non-null    float64\n",
            " 36  t_svarh                               542 non-null    float64\n",
            " 37  t_senth                               542 non-null    float64\n",
            " 38  t_entro                               542 non-null    float64\n",
            " 39  t_dvarh                               542 non-null    float64\n",
            " 40  t_denth                               542 non-null    float64\n",
            " 41  t_inf1h                               542 non-null    float64\n",
            " 42  t_inf2h                               542 non-null    float64\n",
            " 43  classification                        542 non-null    float64\n",
            "dtypes: float64(44)\n",
            "memory usage: 186.4 KB\n"
          ],
          "name": "stdout"
        }
      ]
    },
    {
      "cell_type": "markdown",
      "metadata": {
        "id": "JKwpnJOmHIlN",
        "colab_type": "text"
      },
      "source": [
        "O dataset fornecido contém um total de 38 atributos referentes a dados clínicos e descritores de\n",
        "imagens, gerados por um programa de tratamento de imagem.\n",
        "\n",
        "É possível dividir estes 38 atributos em quatro categorias:\n",
        "* **Dados clínicos e gerais** : nesta categoria temos atributos gerais como a idade, a densidade, o\n",
        "tipo de imagem e os atributos que contem o prefixo ‘mammography’. Estes últimos são\n",
        "dados boleanos que revelam se o paciente contém a condição mencionada.\n",
        "\n",
        "* **Descriptores de intensidade** : são os atributos que tem como prefixo ‘i_’ e são\n",
        "computacionados sobre os níveis da cor cinzenta da imagem do exame, apenas na área\n",
        "assinalada pelo radiologista.\n",
        "\n",
        "* **Descriptores de textura** : são os atributos com prefixo ‘t_’ e são o resultado da computação\n",
        "da matriz de co-ocorrencia de níveis de cinza, na área assinalada pelo radiologista.\n",
        "\n",
        "* **Descriptores de forma e localização** : esta última categoria de atributos é identificada pelo\n",
        "prefixo ‘s_’ e define o tamanho e a localização da área assinalada pelo radiologista."
      ]
    },
    {
      "cell_type": "markdown",
      "metadata": {
        "id": "5hgZnT1OHalt",
        "colab_type": "text"
      },
      "source": [
        "## <a id='3.3'>3.3. Distribuiçãão de Atributos</a>"
      ]
    },
    {
      "cell_type": "code",
      "metadata": {
        "id": "_i1GclRcGOTO",
        "colab_type": "code",
        "colab": {
          "base_uri": "https://localhost:8080/",
          "height": 888
        },
        "outputId": "ecf24c2e-2d49-4aad-e673-c9692324c0d1"
      },
      "source": [
        "features_mean=list(dataset.columns[13:43])\n",
        "\n",
        "M = dataset[(dataset['classification'] == 1)]\n",
        "B = dataset[(dataset['classification'] == 0)]\n",
        "\n",
        "plt.rcParams.update({'font.size': 8})\n",
        "fig, axes = plt.subplots(nrows=6, ncols=5, figsize=(15,15))\n",
        "axes = axes.ravel()\n",
        "\n",
        "for idx,ax in enumerate(axes):\n",
        "    ax.figure\n",
        "    binwidth= (max(dataset[features_mean[idx]]) - min(dataset[features_mean[idx]]))/50\n",
        "    ax.hist([M[features_mean[idx]],B[features_mean[idx]]], bins=np.arange(min(dataset[features_mean[idx]]), max(dataset[features_mean[idx]]) + binwidth, binwidth) , alpha=0.5,stacked=True, density = True, label=['M','B'],color=['r','g'])\n",
        "    ax.legend(loc='upper right')\n",
        "    ax.set_title(features_mean[idx])\n",
        "    \n",
        "plt.tight_layout()\n",
        "plt.show()"
      ],
      "execution_count": 14,
      "outputs": [
        {
          "output_type": "display_data",
          "data": {
            "image/png": "[encoded data removed]",
            "text/plain": [
              "<Figure size 1080x1080 with 30 Axes>"
            ]
          },
          "metadata": {
            "tags": [],
            "needs_background": "light"
          }
        }
      ]
    },
    {
      "cell_type": "markdown",
      "metadata": {
        "id": "MA8whxjBEa1s",
        "colab_type": "text"
      },
      "source": [
        "Após analise dos gráficos gerados anteriormente é possivel retirar algumas conclusões:\n",
        "* Conseguimos observar a exemplos de tumores malignos e negativos em qualquer idade;\n",
        "* Podemos observar ainda que quanto menor o perimetro do tumor, menor é a probabilidade de o tumor ser maligno;\n",
        "* A area tambem é um atributo muito interessante, porque quanto menor a àrea menor a probabilidade de o tumor ser maligno. Podemos por isso relacionar este ponto com o anteriror;\n",
        "* Apenas conseguimos observar exemplos de tumores malignos no atributo t_homo no intervalo entre [0.4 , 0.62];\n",
        "* No caso do atributo t_dvarh apenas se observam exemplos de tumores malignos para valores inferiores a 25;"
      ]
    },
    {
      "cell_type": "markdown",
      "metadata": {
        "id": "kXwTu6_EH4zd",
        "colab_type": "text"
      },
      "source": [
        "## <a id='3.4'>3.4. Coorrelação entre Atributos</a>"
      ]
    },
    {
      "cell_type": "code",
      "metadata": {
        "id": "rnFyYZ5KGU1i",
        "colab_type": "code",
        "colab": {
          "base_uri": "https://localhost:8080/",
          "height": 807
        },
        "outputId": "8b5691da-5e79-4288-bd53-b50a411c39f1"
      },
      "source": [
        "corr = dataset.corr()\n",
        "cmap = sns.diverging_palette(220, 10, as_cmap=True)\n",
        "f, ax = plt.subplots(figsize=(21, 19))\n",
        "sns.heatmap(corr, cmap=cmap, center=0,annot = True,\n",
        "            square=True, linewidths=.5, cbar_kws={\"shrink\": .5});"
      ],
      "execution_count": 15,
      "outputs": [
        {
          "output_type": "display_data",
          "data": {
            "image/png": "[encoded data removed]",
            "text/plain": [
              "<Figure size 1512x1368 with 2 Axes>"
            ]
          },
          "metadata": {
            "tags": [],
            "needs_background": "light"
          }
        }
      ]
    },
    {
      "cell_type": "markdown",
      "metadata": {
        "id": "smZrhYhrEa1w",
        "colab_type": "text"
      },
      "source": [
        "Ao analisar a matriz de correlação entre os atributos, é possivel notar dois nucleos de atributos com maior grau de correlação entre eles:\n",
        "* No primeiro grupo temos os atributos s_circularity, s_elongation, s_form, s_solidity, s_extend;\n",
        "* O segundo nucleo engloba os seguintes atributos t_sosvh, t_homo, t_savgh, t_svarh;"
      ]
    },
    {
      "cell_type": "markdown",
      "metadata": {
        "id": "LKpLqkmw4nmb",
        "colab_type": "text"
      },
      "source": [
        "# <a id='4'>4. Algoritmos em estudo</a> "
      ]
    },
    {
      "cell_type": "markdown",
      "metadata": {
        "id": "j5zN2ptR4v3V",
        "colab_type": "text"
      },
      "source": [
        "## <a id='4.1'>4.1. Random Forest (Modelo Lógico)</a>"
      ]
    },
    {
      "cell_type": "markdown",
      "metadata": {
        "id": "jWkWUSvX8o7r",
        "colab_type": "text"
      },
      "source": [
        "Random Forest é um algoritmo de aprendizagem que pode ser usado tanto em problemas de classificação como de regressão, e consiste na criação de várias árvores de decisão consoante os atributos do dataset utilizado. No processo de classificação cada árvore indica a classe mais apropriada e a moda final é a classe escolhida. Este algoritmo foi escolhido para este problema pois é extremamente versátil, podendo ser usado em vários tipos de problema, e altamente escalável.\n",
        "   \n",
        "   Alguns dos parametro presentes neste modelo são definidos em seguida:\n",
        "   * Max_features (default = auto) - numero maximo de atributos que podem ser considerados na criação de cada árvore de decisão. Este parametro impacta a performance e a velocidade do classificador na medida em que quantos mais atributos melhor será a performance mas pior será a velocidade.\n",
        "   \n",
        "   * n_estimators (default = 100) - numero máximo de árvores a criar antes de se fazer a previsão. O impacto será semelhante ao atributo anterior.\n",
        "   \n",
        "   * min_samples_leaf (default = 1) - numero minimo de exemplos que deve haver nos nós de cada árvore.\n",
        "   \n",
        "   * bootstrap (default = true) - define se todo o dataset deve ser utilizado para construir cada árvore."
      ]
    },
    {
      "cell_type": "markdown",
      "metadata": {
        "id": "oiC07VPa4vtJ",
        "colab_type": "text"
      },
      "source": [
        "## <a id='4.2'>4.2. Support Vector Machines (Modelo Geométrico)</a>"
      ]
    },
    {
      "cell_type": "markdown",
      "metadata": {
        "id": "qm2LnnTs8q3n",
        "colab_type": "text"
      },
      "source": [
        "SVM é um algoritmo de aprendizagem supervisionado e consiste na representação dos exemplos do dataset no espaço, tentando assim encontrar uma separação entre o mapeamento de dois ou mais atributos. \n",
        "\n",
        "   Foi uma das escolhas pois é um algoritmo altamente usado no reconhecimento de padrões e ainda em problemas de classificação binário, em especial deteção de doenças comuns. \n",
        "   \n",
        "   Alguns dos parametro presentes neste modelo são definidos em seguida:\n",
        "   * c (default = 1.0) - parametero de regularização. Quanto maior o valor neste parametro maior será o numeros de casos corretos no conjunto de treino.\n",
        "   \n",
        "   * kernel (default = 'rbf') - determina que kernel vai ser usado pelo algoritmo. As opções são 'linear', 'poly', 'rbf', 'sigmoid', 'precomputed' ou uma chamada.\n",
        "   \n",
        "   * gamma (default = ) - é um parametro para hiperplanos não lineares e quanto maior for mais preciso será no método fit do conjunto de treino. Mas consequentemente pode originar overfitting.\n",
        "   \n",
        "   * degree (default = 3) - grau polinomial quando a função kernel é poli."
      ]
    },
    {
      "cell_type": "markdown",
      "metadata": {
        "id": "VKuZkyBG4vl6",
        "colab_type": "text"
      },
      "source": [
        "## <a id='4.3'>4.3. Naives Bayes (Modelo Probabilistico)</a>"
      ]
    },
    {
      "cell_type": "markdown",
      "metadata": {
        "id": "vaCmjpl58vvA",
        "colab_type": "text"
      },
      "source": [
        "Este ultimo algoritmo probabilístico é muito fácil de construir e muito útil em datasets de grandes dimensões. Usa como estratégia o facto de assumir que todos os atributos são independentes entre sim.\n",
        "   \n",
        "   Este algoritmo contém apenas dois parametros, descritos em seguida:\n",
        "   * priors - probabilidades prévias das classes a prever.\n",
        "   \n",
        "   * var_smoothing (default = 1e-9) - Porção da maior variancia entre todos os atributos."
      ]
    },
    {
      "cell_type": "markdown",
      "metadata": {
        "id": "LLDw6FA34vdp",
        "colab_type": "text"
      },
      "source": [
        "# <a id='5'>5. Avaliação</a> \n"
      ]
    },
    {
      "cell_type": "markdown",
      "metadata": {
        "id": "NWb_zBUw5zTU",
        "colab_type": "text"
      },
      "source": [
        "## <a id='5.1'>5.1. Medida de desempenho</a>"
      ]
    },
    {
      "cell_type": "markdown",
      "metadata": {
        "id": "4kQtdYUm89nZ",
        "colab_type": "text"
      },
      "source": [
        "Antes de escolher uma medida de desempenho é importante definir uma *confusion matrix* para melhor perceber as fórmulas a aplicar.\n",
        "\n",
        "|                         |**Malign (Positive)**|**Benign (Negative)**|\n",
        "|:-----------------------:|:-------------------:|:-------------------:|\n",
        "|  **Malign (Positive)**  |  True Positive (TP) | False Negative (FN) |\n",
        "|  **Benign (Negative)**  | False Positive (FP) |  True Negative (TN) |\n",
        " \n",
        " \n",
        "No contexto do problema é possivel perceber que haverá uma maior preocupação na previsão de casos positivos (tumor maligno), e tambem que em termos de performance, será pior o modelo prever um false negative (benigno quando na verdade é maligno) do que um false positive (maligno quando na verdade é benigno).\n",
        "\n",
        "Os pontos previamente referidos acrescentados ao facto de o conjunto de testes ser desequilibrado, no ambito de haver significamente mais resultados negativos do que positivos (465, 77), faz pender a escolha de um metodo de desempenho sobre o método *f1 score*.\n",
        "\n",
        "Para puder usar este método é necessário introduzir o conceito de *precision* e *recall*. \n",
        "\n",
        "* Precision (TP / (TP + FP)) - Consiste em calcular o quao preciso o modelo é, quando preve a classe positiva (maligno).\n",
        "   \n",
        "* Recall (TP / (TP + FN)) - Consiste em calcular quantos dos exemplos positivos são correctamente identificados pelo modelo.\n",
        "\n",
        "Usando estas duas métricas o score F1 é calculado do seguinte modo.\n",
        "\n",
        "F1 = 2 * ((Precision * Recall) / (Precision + Recall))"
      ]
    },
    {
      "cell_type": "markdown",
      "metadata": {
        "id": "shIFwCP65zM6",
        "colab_type": "text"
      },
      "source": [
        "## <a id='5.2'>5.2. Procedimento de avaliação</a>"
      ]
    },
    {
      "cell_type": "markdown",
      "metadata": {
        "id": "abfRNFM59Ke6",
        "colab_type": "text"
      },
      "source": [
        "Para proceder à avaliação do modelo será usado o procedimento de ***cross validation***. Para este procedimento, como o dataset em estudo não é muito extenso não o poderemos simplesmente dividir em k partes com tamanho n, e avaliar cada parte individualmente, pelo que teremos de optar por uma solução alternativa de *cross validation*. \n",
        "\n",
        "Esta solução alternativa, consiste em partir aleatoriamente a data à disposição em k partes, alocando uma dessas partes para teste e usando as restantes k-1 partes para treinar o modelo. A avaliação será feita na parte alocada para teste e este processo será repetido k vezes, até cada parte ter sido usada como teste.\n",
        "\n",
        "**Nota:** Para esta experiência vamos considerar k = 10."
      ]
    },
    {
      "cell_type": "code",
      "metadata": {
        "id": "62iilrUv9Qx7",
        "colab_type": "code",
        "colab": {}
      },
      "source": [
        "# Mantem a distribuição de classes\n",
        "skf = StratifiedKFold(n_splits=10, random_state=2, shuffle=True)"
      ],
      "execution_count": 16,
      "outputs": []
    },
    {
      "cell_type": "markdown",
      "metadata": {
        "id": "xt19rqIU9oHB",
        "colab_type": "text"
      },
      "source": [
        "## <a id='5.3'>5.3. Função de avaliação</a>"
      ]
    },
    {
      "cell_type": "markdown",
      "metadata": {
        "id": "XPSuoFSkEa16",
        "colab_type": "text"
      },
      "source": [
        "A função a baixo calcula o valor de f1, da cobertura e da precisão para cada fold referente ao modelo recebido como argumento."
      ]
    },
    {
      "cell_type": "code",
      "metadata": {
        "id": "hGt4T6Ke-gvR",
        "colab_type": "code",
        "colab": {}
      },
      "source": [
        "def evaluate_function (model, crossValidation, f1score, precision, recall, X_set, Y_set):\n",
        "    \n",
        "    for train_index, test_index in crossValidation.split(X_set,Y_set):\n",
        "        X_val_train, X_val_test = X_set[train_index], X_set[test_index]\n",
        "        y_val_train, y_val_test = Y_set[train_index], Y_set[test_index]\n",
        "        \n",
        "        model.fit(X_val_train, y_val_train)\n",
        "        y_pred = model.predict(X_val_test)\n",
        "        \n",
        "        cm = confusion_matrix(y_val_test, y_pred)\n",
        "        \n",
        "        tp = cm[1,1]\n",
        "        fn = cm[1,0]\n",
        "        fp = cm[0,1]\n",
        "        tn = cm[0,0]\n",
        "        \n",
        "        f1score.append(f1_score(y_val_test, y_pred, pos_label = 1))\n",
        "        precision.append(tp/(tp+fp))\n",
        "        recall.append(tp/(tp+fn))"
      ],
      "execution_count": 17,
      "outputs": []
    },
    {
      "cell_type": "markdown",
      "metadata": {
        "id": "SwprikOq5zFa",
        "colab_type": "text"
      },
      "source": [
        "# <a id='6'>6. Preparação do dataset</a> "
      ]
    },
    {
      "cell_type": "markdown",
      "metadata": {
        "id": "LumoBOpM_zRw",
        "colab_type": "text"
      },
      "source": [
        "## <a id='6.1'>6.1. Remoção de Atributos</a>"
      ]
    },
    {
      "cell_type": "markdown",
      "metadata": {
        "id": "Hd6LthTla_4p",
        "colab_type": "text"
      },
      "source": [
        "No dataset existem atributos que são insignificantes para a tarefa de classificação, pelo que podem ser removidos. A sua insignificancia deve-se ao facto dos valores para estes atributos serem sempre iguais ou serem sempre diferentes. Neste último caso temos os atributos que representam ids, como patient_id ou study_id."
      ]
    },
    {
      "cell_type": "code",
      "metadata": {
        "id": "o0W68Hva_6ax",
        "colab_type": "code",
        "colab": {}
      },
      "source": [
        "new_dataset = pd.DataFrame(dataset, columns=dataset.columns)\n",
        "new_dataset.drop(['patient_id','study_id','series','lesion_id','segmentation_id','mammography_type','mammography_axillary_adenopathy'], axis = 1,inplace = True)"
      ],
      "execution_count": 18,
      "outputs": []
    },
    {
      "cell_type": "markdown",
      "metadata": {
        "id": "IUSYWNVr5y8h",
        "colab_type": "text"
      },
      "source": [
        "## <a id='6.2'>6.2. Standarização do dataset</a>"
      ]
    },
    {
      "cell_type": "markdown",
      "metadata": {
        "id": "w82sDREfEa2B",
        "colab_type": "text"
      },
      "source": [
        "De maneira a que alguns atributos não se sobreponham a outros por terem um leque de valores mais amplos, é necessário uniformizar os dados. Para isso é utilizada a função MinMaxScaler, que uniformiza todos os atributos do dataset, de modo a ficarem todos com valores entre 0 e 1."
      ]
    },
    {
      "cell_type": "code",
      "metadata": {
        "id": "KbIcVCEM_H95",
        "colab_type": "code",
        "colab": {}
      },
      "source": [
        "scaler = MinMaxScaler()\n",
        "new_dataset[:] = pd.DataFrame(scaler.fit_transform(new_dataset))"
      ],
      "execution_count": 19,
      "outputs": []
    },
    {
      "cell_type": "code",
      "metadata": {
        "id": "Wk50pQ9n_cu8",
        "colab_type": "code",
        "colab": {
          "base_uri": "https://localhost:8080/",
          "height": 1000
        },
        "outputId": "5b54c912-9100-42e8-9ec8-0a5b915fcbcf"
      },
      "source": [
        "new_dataset.describe().T"
      ],
      "execution_count": 20,
      "outputs": [
        {
          "output_type": "execute_result",
          "data": {
            "text/html": [
              "<div>\n",
              "<style scoped>\n",
              "    .dataframe tbody tr th:only-of-type {\n",
              "        vertical-align: middle;\n",
              "    }\n",
              "\n",
              "    .dataframe tbody tr th {\n",
              "        vertical-align: top;\n",
              "    }\n",
              "\n",
              "    .dataframe thead th {\n",
              "        text-align: right;\n",
              "    }\n",
              "</style>\n",
              "<table border=\"1\" class=\"dataframe\">\n",
              "  <thead>\n",
              "    <tr style=\"text-align: right;\">\n",
              "      <th></th>\n",
              "      <th>count</th>\n",
              "      <th>mean</th>\n",
              "      <th>std</th>\n",
              "      <th>min</th>\n",
              "      <th>25%</th>\n",
              "      <th>50%</th>\n",
              "      <th>75%</th>\n",
              "      <th>max</th>\n",
              "    </tr>\n",
              "  </thead>\n",
              "  <tbody>\n",
              "    <tr>\n",
              "      <th>image_view</th>\n",
              "      <td>542.0</td>\n",
              "      <td>0.525830</td>\n",
              "      <td>0.371020</td>\n",
              "      <td>0.0</td>\n",
              "      <td>0.333333</td>\n",
              "      <td>0.666667</td>\n",
              "      <td>1.000000</td>\n",
              "      <td>1.0</td>\n",
              "    </tr>\n",
              "    <tr>\n",
              "      <th>mammography_nodule</th>\n",
              "      <td>542.0</td>\n",
              "      <td>0.263838</td>\n",
              "      <td>0.441119</td>\n",
              "      <td>0.0</td>\n",
              "      <td>0.000000</td>\n",
              "      <td>0.000000</td>\n",
              "      <td>1.000000</td>\n",
              "      <td>1.0</td>\n",
              "    </tr>\n",
              "    <tr>\n",
              "      <th>mammography_calcification</th>\n",
              "      <td>542.0</td>\n",
              "      <td>0.787823</td>\n",
              "      <td>0.409227</td>\n",
              "      <td>0.0</td>\n",
              "      <td>1.000000</td>\n",
              "      <td>1.000000</td>\n",
              "      <td>1.000000</td>\n",
              "      <td>1.0</td>\n",
              "    </tr>\n",
              "    <tr>\n",
              "      <th>mammography_microcalcification</th>\n",
              "      <td>542.0</td>\n",
              "      <td>0.084871</td>\n",
              "      <td>0.278947</td>\n",
              "      <td>0.0</td>\n",
              "      <td>0.000000</td>\n",
              "      <td>0.000000</td>\n",
              "      <td>0.000000</td>\n",
              "      <td>1.0</td>\n",
              "    </tr>\n",
              "    <tr>\n",
              "      <th>mammography_architectural_distortion</th>\n",
              "      <td>542.0</td>\n",
              "      <td>0.007380</td>\n",
              "      <td>0.085669</td>\n",
              "      <td>0.0</td>\n",
              "      <td>0.000000</td>\n",
              "      <td>0.000000</td>\n",
              "      <td>0.000000</td>\n",
              "      <td>1.0</td>\n",
              "    </tr>\n",
              "    <tr>\n",
              "      <th>mammography_stroma_distortion</th>\n",
              "      <td>542.0</td>\n",
              "      <td>0.047970</td>\n",
              "      <td>0.213901</td>\n",
              "      <td>0.0</td>\n",
              "      <td>0.000000</td>\n",
              "      <td>0.000000</td>\n",
              "      <td>0.000000</td>\n",
              "      <td>1.0</td>\n",
              "    </tr>\n",
              "    <tr>\n",
              "      <th>age</th>\n",
              "      <td>542.0</td>\n",
              "      <td>0.529129</td>\n",
              "      <td>0.166401</td>\n",
              "      <td>0.0</td>\n",
              "      <td>0.424242</td>\n",
              "      <td>0.530303</td>\n",
              "      <td>0.621212</td>\n",
              "      <td>1.0</td>\n",
              "    </tr>\n",
              "    <tr>\n",
              "      <th>density</th>\n",
              "      <td>542.0</td>\n",
              "      <td>0.440959</td>\n",
              "      <td>0.300952</td>\n",
              "      <td>0.0</td>\n",
              "      <td>0.333333</td>\n",
              "      <td>0.333333</td>\n",
              "      <td>0.666667</td>\n",
              "      <td>1.0</td>\n",
              "    </tr>\n",
              "    <tr>\n",
              "      <th>i_mean</th>\n",
              "      <td>542.0</td>\n",
              "      <td>0.667213</td>\n",
              "      <td>0.249464</td>\n",
              "      <td>0.0</td>\n",
              "      <td>0.475592</td>\n",
              "      <td>0.699961</td>\n",
              "      <td>0.906467</td>\n",
              "      <td>1.0</td>\n",
              "    </tr>\n",
              "    <tr>\n",
              "      <th>i_std_dev</th>\n",
              "      <td>542.0</td>\n",
              "      <td>0.350829</td>\n",
              "      <td>0.166755</td>\n",
              "      <td>0.0</td>\n",
              "      <td>0.235414</td>\n",
              "      <td>0.335827</td>\n",
              "      <td>0.443739</td>\n",
              "      <td>1.0</td>\n",
              "    </tr>\n",
              "    <tr>\n",
              "      <th>i_maximum</th>\n",
              "      <td>542.0</td>\n",
              "      <td>0.936274</td>\n",
              "      <td>0.164849</td>\n",
              "      <td>0.0</td>\n",
              "      <td>1.000000</td>\n",
              "      <td>1.000000</td>\n",
              "      <td>1.000000</td>\n",
              "      <td>1.0</td>\n",
              "    </tr>\n",
              "    <tr>\n",
              "      <th>i_minimum</th>\n",
              "      <td>542.0</td>\n",
              "      <td>0.481909</td>\n",
              "      <td>0.188827</td>\n",
              "      <td>0.0</td>\n",
              "      <td>0.349032</td>\n",
              "      <td>0.475849</td>\n",
              "      <td>0.607495</td>\n",
              "      <td>1.0</td>\n",
              "    </tr>\n",
              "    <tr>\n",
              "      <th>i_kurtosis</th>\n",
              "      <td>542.0</td>\n",
              "      <td>0.115772</td>\n",
              "      <td>0.141371</td>\n",
              "      <td>0.0</td>\n",
              "      <td>0.036729</td>\n",
              "      <td>0.057327</td>\n",
              "      <td>0.134207</td>\n",
              "      <td>1.0</td>\n",
              "    </tr>\n",
              "    <tr>\n",
              "      <th>i_skewness</th>\n",
              "      <td>542.0</td>\n",
              "      <td>0.505999</td>\n",
              "      <td>0.155752</td>\n",
              "      <td>0.0</td>\n",
              "      <td>0.405591</td>\n",
              "      <td>0.544231</td>\n",
              "      <td>0.603930</td>\n",
              "      <td>1.0</td>\n",
              "    </tr>\n",
              "    <tr>\n",
              "      <th>s_area</th>\n",
              "      <td>542.0</td>\n",
              "      <td>0.037589</td>\n",
              "      <td>0.109783</td>\n",
              "      <td>0.0</td>\n",
              "      <td>0.000486</td>\n",
              "      <td>0.001613</td>\n",
              "      <td>0.017368</td>\n",
              "      <td>1.0</td>\n",
              "    </tr>\n",
              "    <tr>\n",
              "      <th>s_perimeter</th>\n",
              "      <td>542.0</td>\n",
              "      <td>0.120373</td>\n",
              "      <td>0.177785</td>\n",
              "      <td>0.0</td>\n",
              "      <td>0.015682</td>\n",
              "      <td>0.034989</td>\n",
              "      <td>0.149248</td>\n",
              "      <td>1.0</td>\n",
              "    </tr>\n",
              "    <tr>\n",
              "      <th>s_x_center_mass</th>\n",
              "      <td>542.0</td>\n",
              "      <td>0.472448</td>\n",
              "      <td>0.292313</td>\n",
              "      <td>0.0</td>\n",
              "      <td>0.211872</td>\n",
              "      <td>0.384819</td>\n",
              "      <td>0.766817</td>\n",
              "      <td>1.0</td>\n",
              "    </tr>\n",
              "    <tr>\n",
              "      <th>s_y_center_mass</th>\n",
              "      <td>542.0</td>\n",
              "      <td>0.521101</td>\n",
              "      <td>0.195736</td>\n",
              "      <td>0.0</td>\n",
              "      <td>0.383803</td>\n",
              "      <td>0.526349</td>\n",
              "      <td>0.661347</td>\n",
              "      <td>1.0</td>\n",
              "    </tr>\n",
              "    <tr>\n",
              "      <th>s_circularity</th>\n",
              "      <td>542.0</td>\n",
              "      <td>0.652181</td>\n",
              "      <td>0.215327</td>\n",
              "      <td>0.0</td>\n",
              "      <td>0.549773</td>\n",
              "      <td>0.719148</td>\n",
              "      <td>0.802685</td>\n",
              "      <td>1.0</td>\n",
              "    </tr>\n",
              "    <tr>\n",
              "      <th>s_elongation</th>\n",
              "      <td>542.0</td>\n",
              "      <td>0.683938</td>\n",
              "      <td>0.229851</td>\n",
              "      <td>0.0</td>\n",
              "      <td>0.590671</td>\n",
              "      <td>0.738857</td>\n",
              "      <td>0.850468</td>\n",
              "      <td>1.0</td>\n",
              "    </tr>\n",
              "    <tr>\n",
              "      <th>s_form</th>\n",
              "      <td>542.0</td>\n",
              "      <td>0.194873</td>\n",
              "      <td>0.179112</td>\n",
              "      <td>0.0</td>\n",
              "      <td>0.041536</td>\n",
              "      <td>0.155599</td>\n",
              "      <td>0.305750</td>\n",
              "      <td>1.0</td>\n",
              "    </tr>\n",
              "    <tr>\n",
              "      <th>s_solidity</th>\n",
              "      <td>542.0</td>\n",
              "      <td>0.861485</td>\n",
              "      <td>0.166882</td>\n",
              "      <td>0.0</td>\n",
              "      <td>0.841427</td>\n",
              "      <td>0.925638</td>\n",
              "      <td>0.955399</td>\n",
              "      <td>1.0</td>\n",
              "    </tr>\n",
              "    <tr>\n",
              "      <th>s_extent</th>\n",
              "      <td>542.0</td>\n",
              "      <td>0.718227</td>\n",
              "      <td>0.186775</td>\n",
              "      <td>0.0</td>\n",
              "      <td>0.669310</td>\n",
              "      <td>0.771714</td>\n",
              "      <td>0.841671</td>\n",
              "      <td>1.0</td>\n",
              "    </tr>\n",
              "    <tr>\n",
              "      <th>t_energ</th>\n",
              "      <td>542.0</td>\n",
              "      <td>0.158794</td>\n",
              "      <td>0.249718</td>\n",
              "      <td>0.0</td>\n",
              "      <td>0.011911</td>\n",
              "      <td>0.025107</td>\n",
              "      <td>0.184996</td>\n",
              "      <td>1.0</td>\n",
              "    </tr>\n",
              "    <tr>\n",
              "      <th>t_contr</th>\n",
              "      <td>542.0</td>\n",
              "      <td>0.149468</td>\n",
              "      <td>0.138829</td>\n",
              "      <td>0.0</td>\n",
              "      <td>0.040092</td>\n",
              "      <td>0.107902</td>\n",
              "      <td>0.228416</td>\n",
              "      <td>1.0</td>\n",
              "    </tr>\n",
              "    <tr>\n",
              "      <th>t_corr</th>\n",
              "      <td>542.0</td>\n",
              "      <td>0.510351</td>\n",
              "      <td>0.233202</td>\n",
              "      <td>0.0</td>\n",
              "      <td>0.342090</td>\n",
              "      <td>0.437959</td>\n",
              "      <td>0.703851</td>\n",
              "      <td>1.0</td>\n",
              "    </tr>\n",
              "    <tr>\n",
              "      <th>t_sosvh</th>\n",
              "      <td>542.0</td>\n",
              "      <td>0.585629</td>\n",
              "      <td>0.282343</td>\n",
              "      <td>0.0</td>\n",
              "      <td>0.347040</td>\n",
              "      <td>0.582162</td>\n",
              "      <td>0.866712</td>\n",
              "      <td>1.0</td>\n",
              "    </tr>\n",
              "    <tr>\n",
              "      <th>t_homo</th>\n",
              "      <td>542.0</td>\n",
              "      <td>0.386870</td>\n",
              "      <td>0.231897</td>\n",
              "      <td>0.0</td>\n",
              "      <td>0.217092</td>\n",
              "      <td>0.360876</td>\n",
              "      <td>0.495123</td>\n",
              "      <td>1.0</td>\n",
              "    </tr>\n",
              "    <tr>\n",
              "      <th>t_savgh</th>\n",
              "      <td>542.0</td>\n",
              "      <td>0.662218</td>\n",
              "      <td>0.249820</td>\n",
              "      <td>0.0</td>\n",
              "      <td>0.475457</td>\n",
              "      <td>0.681848</td>\n",
              "      <td>0.903289</td>\n",
              "      <td>1.0</td>\n",
              "    </tr>\n",
              "    <tr>\n",
              "      <th>t_svarh</th>\n",
              "      <td>542.0</td>\n",
              "      <td>0.538845</td>\n",
              "      <td>0.281059</td>\n",
              "      <td>0.0</td>\n",
              "      <td>0.300909</td>\n",
              "      <td>0.512592</td>\n",
              "      <td>0.808024</td>\n",
              "      <td>1.0</td>\n",
              "    </tr>\n",
              "    <tr>\n",
              "      <th>t_senth</th>\n",
              "      <td>542.0</td>\n",
              "      <td>0.607755</td>\n",
              "      <td>0.225065</td>\n",
              "      <td>0.0</td>\n",
              "      <td>0.499346</td>\n",
              "      <td>0.675796</td>\n",
              "      <td>0.776852</td>\n",
              "      <td>1.0</td>\n",
              "    </tr>\n",
              "    <tr>\n",
              "      <th>t_entro</th>\n",
              "      <td>542.0</td>\n",
              "      <td>0.558109</td>\n",
              "      <td>0.232391</td>\n",
              "      <td>0.0</td>\n",
              "      <td>0.408769</td>\n",
              "      <td>0.639261</td>\n",
              "      <td>0.729102</td>\n",
              "      <td>1.0</td>\n",
              "    </tr>\n",
              "    <tr>\n",
              "      <th>t_dvarh</th>\n",
              "      <td>542.0</td>\n",
              "      <td>0.149468</td>\n",
              "      <td>0.138829</td>\n",
              "      <td>0.0</td>\n",
              "      <td>0.040092</td>\n",
              "      <td>0.107902</td>\n",
              "      <td>0.228416</td>\n",
              "      <td>1.0</td>\n",
              "    </tr>\n",
              "    <tr>\n",
              "      <th>t_denth</th>\n",
              "      <td>542.0</td>\n",
              "      <td>0.565441</td>\n",
              "      <td>0.205454</td>\n",
              "      <td>0.0</td>\n",
              "      <td>0.432516</td>\n",
              "      <td>0.561922</td>\n",
              "      <td>0.734822</td>\n",
              "      <td>1.0</td>\n",
              "    </tr>\n",
              "    <tr>\n",
              "      <th>t_inf1h</th>\n",
              "      <td>542.0</td>\n",
              "      <td>0.807922</td>\n",
              "      <td>0.167519</td>\n",
              "      <td>0.0</td>\n",
              "      <td>0.735874</td>\n",
              "      <td>0.861169</td>\n",
              "      <td>0.926715</td>\n",
              "      <td>1.0</td>\n",
              "    </tr>\n",
              "    <tr>\n",
              "      <th>t_inf2h</th>\n",
              "      <td>542.0</td>\n",
              "      <td>0.562628</td>\n",
              "      <td>0.226250</td>\n",
              "      <td>0.0</td>\n",
              "      <td>0.389080</td>\n",
              "      <td>0.553449</td>\n",
              "      <td>0.748411</td>\n",
              "      <td>1.0</td>\n",
              "    </tr>\n",
              "    <tr>\n",
              "      <th>classification</th>\n",
              "      <td>542.0</td>\n",
              "      <td>0.142066</td>\n",
              "      <td>0.349441</td>\n",
              "      <td>0.0</td>\n",
              "      <td>0.000000</td>\n",
              "      <td>0.000000</td>\n",
              "      <td>0.000000</td>\n",
              "      <td>1.0</td>\n",
              "    </tr>\n",
              "  </tbody>\n",
              "</table>\n",
              "</div>"
            ],
            "text/plain": [
              "                                      count      mean  ...       75%  max\n",
              "image_view                            542.0  0.525830  ...  1.000000  1.0\n",
              "mammography_nodule                    542.0  0.263838  ...  1.000000  1.0\n",
              "mammography_calcification             542.0  0.787823  ...  1.000000  1.0\n",
              "mammography_microcalcification        542.0  0.084871  ...  0.000000  1.0\n",
              "mammography_architectural_distortion  542.0  0.007380  ...  0.000000  1.0\n",
              "mammography_stroma_distortion         542.0  0.047970  ...  0.000000  1.0\n",
              "age                                   542.0  0.529129  ...  0.621212  1.0\n",
              "density                               542.0  0.440959  ...  0.666667  1.0\n",
              "i_mean                                542.0  0.667213  ...  0.906467  1.0\n",
              "i_std_dev                             542.0  0.350829  ...  0.443739  1.0\n",
              "i_maximum                             542.0  0.936274  ...  1.000000  1.0\n",
              "i_minimum                             542.0  0.481909  ...  0.607495  1.0\n",
              "i_kurtosis                            542.0  0.115772  ...  0.134207  1.0\n",
              "i_skewness                            542.0  0.505999  ...  0.603930  1.0\n",
              "s_area                                542.0  0.037589  ...  0.017368  1.0\n",
              "s_perimeter                           542.0  0.120373  ...  0.149248  1.0\n",
              "s_x_center_mass                       542.0  0.472448  ...  0.766817  1.0\n",
              "s_y_center_mass                       542.0  0.521101  ...  0.661347  1.0\n",
              "s_circularity                         542.0  0.652181  ...  0.802685  1.0\n",
              "s_elongation                          542.0  0.683938  ...  0.850468  1.0\n",
              "s_form                                542.0  0.194873  ...  0.305750  1.0\n",
              "s_solidity                            542.0  0.861485  ...  0.955399  1.0\n",
              "s_extent                              542.0  0.718227  ...  0.841671  1.0\n",
              "t_energ                               542.0  0.158794  ...  0.184996  1.0\n",
              "t_contr                               542.0  0.149468  ...  0.228416  1.0\n",
              "t_corr                                542.0  0.510351  ...  0.703851  1.0\n",
              "t_sosvh                               542.0  0.585629  ...  0.866712  1.0\n",
              "t_homo                                542.0  0.386870  ...  0.495123  1.0\n",
              "t_savgh                               542.0  0.662218  ...  0.903289  1.0\n",
              "t_svarh                               542.0  0.538845  ...  0.808024  1.0\n",
              "t_senth                               542.0  0.607755  ...  0.776852  1.0\n",
              "t_entro                               542.0  0.558109  ...  0.729102  1.0\n",
              "t_dvarh                               542.0  0.149468  ...  0.228416  1.0\n",
              "t_denth                               542.0  0.565441  ...  0.734822  1.0\n",
              "t_inf1h                               542.0  0.807922  ...  0.926715  1.0\n",
              "t_inf2h                               542.0  0.562628  ...  0.748411  1.0\n",
              "classification                        542.0  0.142066  ...  0.000000  1.0\n",
              "\n",
              "[37 rows x 8 columns]"
            ]
          },
          "metadata": {
            "tags": []
          },
          "execution_count": 20
        }
      ]
    },
    {
      "cell_type": "markdown",
      "metadata": {
        "id": "vz4_J-xV4vOR",
        "colab_type": "text"
      },
      "source": [
        "## <a id='6.2'>6.2. Seleção de atributos</a>"
      ]
    },
    {
      "cell_type": "markdown",
      "metadata": {
        "id": "kf6oEk3IEa2H",
        "colab_type": "text"
      },
      "source": [
        "Outro dos métodos a utilizar para melhor preparar o nosso dataset é o de seleccionar os atributos com maior influência para a previsão de resultados correctos. Deste modo, é feita a escolha dos 20 atributos mais influentes no dataset, recorrendo à função SelectKBest."
      ]
    },
    {
      "cell_type": "code",
      "metadata": {
        "id": "kugJkSXUA91u",
        "colab_type": "code",
        "colab": {
          "base_uri": "https://localhost:8080/",
          "height": 357
        },
        "outputId": "06a0e382-a684-4127-e225-e1593200b6a2"
      },
      "source": [
        "select_feature = SelectKBest(chi2, k=20).fit(new_dataset.drop('classification',axis = 1 ), new_dataset['classification'])\n",
        "\n",
        "print('Score list:', select_feature.scores_)\n",
        "print('Feature list:', new_dataset.columns)\n",
        "select_feature"
      ],
      "execution_count": 21,
      "outputs": [
        {
          "output_type": "stream",
          "text": [
            "Score list: [1.36527710e-01 7.72118769e+01 1.80650107e+01 1.34540959e+02\n",
            " 4.20455244e+00 8.39056041e+01 1.67433147e-03 4.98801849e-04\n",
            " 3.69275790e+00 3.96600746e-01 1.22438715e-04 2.96795417e+00\n",
            " 2.82122091e+00 9.32391591e-01 4.11200702e+01 5.24488038e+01\n",
            " 4.23488476e-01 2.25546295e-02 2.54390604e+00 1.83573050e-04\n",
            " 1.34047753e+01 1.73683077e-01 2.52737809e-01 1.16803195e+01\n",
            " 8.19490093e+00 2.10867834e+01 6.00147117e+00 4.82721146e-02\n",
            " 3.40310669e+00 6.64345722e+00 4.80126828e+00 3.63272657e+00\n",
            " 8.19490093e+00 9.42206701e-01 3.38675145e-01 6.33912671e+00]\n",
            "Feature list: Index(['image_view', 'mammography_nodule', 'mammography_calcification',\n",
            "       'mammography_microcalcification',\n",
            "       'mammography_architectural_distortion', 'mammography_stroma_distortion',\n",
            "       'age', 'density', 'i_mean', 'i_std_dev', 'i_maximum', 'i_minimum',\n",
            "       'i_kurtosis', 'i_skewness', 's_area', 's_perimeter', 's_x_center_mass',\n",
            "       's_y_center_mass', 's_circularity', 's_elongation', 's_form',\n",
            "       's_solidity', 's_extent', 't_energ', 't_contr', 't_corr', 't_sosvh',\n",
            "       't_homo', 't_savgh', 't_svarh', 't_senth', 't_entro', 't_dvarh',\n",
            "       't_denth', 't_inf1h', 't_inf2h', 'classification'],\n",
            "      dtype='object')\n"
          ],
          "name": "stdout"
        },
        {
          "output_type": "execute_result",
          "data": {
            "text/plain": [
              "SelectKBest(k=20, score_func=<function chi2 at 0x7f014fe732f0>)"
            ]
          },
          "metadata": {
            "tags": []
          },
          "execution_count": 21
        }
      ]
    },
    {
      "cell_type": "code",
      "metadata": {
        "id": "SDZM-2YqBp6p",
        "colab_type": "code",
        "colab": {
          "base_uri": "https://localhost:8080/",
          "height": 238
        },
        "outputId": "e333b812-a309-4d8e-f3e6-f2200dd9113d"
      },
      "source": [
        "select_feature.transform(new_dataset.drop('classification',axis = 1))"
      ],
      "execution_count": 22,
      "outputs": [
        {
          "output_type": "execute_result",
          "data": {
            "text/plain": [
              "array([[0.        , 1.        , 0.        , ..., 0.67713897, 0.10295217,\n",
              "        0.43454786],\n",
              "       [0.        , 1.        , 0.        , ..., 0.60801458, 0.13965032,\n",
              "        0.42017842],\n",
              "       [0.        , 1.        , 0.        , ..., 0.43745394, 0.26132286,\n",
              "        0.43611707],\n",
              "       ...,\n",
              "       [1.        , 0.        , 0.        , ..., 0.54696387, 0.00706715,\n",
              "        0.78835896],\n",
              "       [1.        , 0.        , 0.        , ..., 0.39820215, 0.        ,\n",
              "        0.74331154],\n",
              "       [1.        , 0.        , 0.        , ..., 0.72228282, 0.03343018,\n",
              "        0.74608007]])"
            ]
          },
          "metadata": {
            "tags": []
          },
          "execution_count": 22
        }
      ]
    },
    {
      "cell_type": "code",
      "metadata": {
        "id": "luFdcLDhBzX9",
        "colab_type": "code",
        "colab": {
          "base_uri": "https://localhost:8080/",
          "height": 136
        },
        "outputId": "586587ca-6056-4502-8177-517de99f4050"
      },
      "source": [
        "selected_columns = np.array(new_dataset.drop('classification',axis = 1).columns)[select_feature.get_support()]\n",
        "selected_columns"
      ],
      "execution_count": 23,
      "outputs": [
        {
          "output_type": "execute_result",
          "data": {
            "text/plain": [
              "array(['mammography_nodule', 'mammography_calcification',\n",
              "       'mammography_microcalcification',\n",
              "       'mammography_architectural_distortion',\n",
              "       'mammography_stroma_distortion', 'i_mean', 'i_minimum', 's_area',\n",
              "       's_perimeter', 's_form', 't_energ', 't_contr', 't_corr', 't_sosvh',\n",
              "       't_savgh', 't_svarh', 't_senth', 't_entro', 't_dvarh', 't_inf2h'],\n",
              "      dtype=object)"
            ]
          },
          "metadata": {
            "tags": []
          },
          "execution_count": 23
        }
      ]
    },
    {
      "cell_type": "markdown",
      "metadata": {
        "id": "2_Vg72166VaR",
        "colab_type": "text"
      },
      "source": [
        "## <a id='6.3'>6.3. Divisão conjunto de treino e de teste</a>"
      ]
    },
    {
      "cell_type": "markdown",
      "metadata": {
        "id": "PAnmral8Ea2P",
        "colab_type": "text"
      },
      "source": [
        "Antes de proceder à divisão em conjunto de treino e conjunto de testes é necessário distinguir os dois datasets que foram construidos ao longo de toda a análise do problema. O *dataset* contém todos os atributos e os valores de origem dos mesmos, enquanto que o *new_dataset* contém apenas os 20 atributos mais influentes e os seus valores uniformizados.\n",
        "\n",
        "Iremos por isso ficar com dois conjuntos de treino e dois conjuntos de teste, sendo que o tamanho dos conjuntos de testes será de 30% o tamanho do dataset original."
      ]
    },
    {
      "cell_type": "code",
      "metadata": {
        "id": "RREDy2CeB32i",
        "colab_type": "code",
        "colab": {}
      },
      "source": [
        "X = dataset.iloc[:, 1:43].values\n",
        "Y = dataset.iloc[:, 43].values\n",
        "\n",
        "X_train, X_test, Y_train, Y_test = train_test_split(X, Y, test_size=0.3, random_state=1)"
      ],
      "execution_count": 24,
      "outputs": []
    },
    {
      "cell_type": "code",
      "metadata": {
        "id": "yzS_yva0B3pi",
        "colab_type": "code",
        "colab": {}
      },
      "source": [
        "new_X = new_dataset.loc[:, selected_columns].values\n",
        "new_Y = new_dataset.iloc[:, 36].values\n",
        "\n",
        "new_X_train, new_X_test, new_Y_train, new_Y_test = train_test_split(new_X, new_Y, test_size=0.3, random_state=1)"
      ],
      "execution_count": 25,
      "outputs": []
    },
    {
      "cell_type": "markdown",
      "metadata": {
        "id": "YS3QfhQW6VXe",
        "colab_type": "text"
      },
      "source": [
        "# <a id='7'>7. Classificador Moda</a> "
      ]
    },
    {
      "cell_type": "markdown",
      "metadata": {
        "id": "fRf2sWohK55o",
        "colab_type": "text"
      },
      "source": [
        "Antes de aplicarmos os três algoritmos escolhidos anteriormentes, vamos aplicar um mais simples que terá como base para a previsão o calculo da moda no conjunto de treino. Este modelo apesar de muito básico irá fornecer-nos alguns resultados para analisar à partida.\n",
        "\n",
        "Em baixo encontra-se a implementação do modelo."
      ]
    },
    {
      "cell_type": "code",
      "metadata": {
        "id": "B8AJaXCfJko7",
        "colab_type": "code",
        "colab": {}
      },
      "source": [
        "class ModaClassificador:\n",
        "    \n",
        "    def fit(self, data, labels):\n",
        "        self.moda = stats.mode(labels).mode[0];\n",
        "        return stats.mode(labels)\n",
        "    \n",
        "    def predict(self, data):\n",
        "        prediction = []\n",
        "        for d in data:\n",
        "            prediction.append(self.moda)\n",
        "        return prediction\n",
        "    "
      ],
      "execution_count": 26,
      "outputs": []
    },
    {
      "cell_type": "markdown",
      "metadata": {
        "id": "xCpL0J-R6VU4",
        "colab_type": "text"
      },
      "source": [
        "## <a id='7.1'>7.1. Fitting</a>"
      ]
    },
    {
      "cell_type": "code",
      "metadata": {
        "id": "OE3m4CjMCexG",
        "colab_type": "code",
        "colab": {
          "base_uri": "https://localhost:8080/",
          "height": 34
        },
        "outputId": "e1f132c4-cba0-4f62-8ec9-02704f2ae878"
      },
      "source": [
        "mode_model = ModaClassificador()\n",
        "\n",
        "mode_model.fit(X_train, Y_train)"
      ],
      "execution_count": 27,
      "outputs": [
        {
          "output_type": "execute_result",
          "data": {
            "text/plain": [
              "ModeResult(mode=array([0.]), count=array([327]))"
            ]
          },
          "metadata": {
            "tags": []
          },
          "execution_count": 27
        }
      ]
    },
    {
      "cell_type": "markdown",
      "metadata": {
        "id": "nIlacCWS6VPn",
        "colab_type": "text"
      },
      "source": [
        "## <a id='7.2'>7.2. Resultados</a>"
      ]
    },
    {
      "cell_type": "markdown",
      "metadata": {
        "id": "oBcPZxIKKy5e",
        "colab_type": "text"
      },
      "source": [
        "Como a divisão do dataset é estratificada, de nada vale aplicar validação cruzada pois o resultado vai ser sempre o mesmo para cada um dos folds, pelo que podemos aplicar o modelo ao conjunto completo."
      ]
    },
    {
      "cell_type": "code",
      "metadata": {
        "id": "Lifoh7-xKgzA",
        "colab_type": "code",
        "colab": {
          "base_uri": "https://localhost:8080/",
          "height": 122
        },
        "outputId": "ac443f2e-1bda-4aab-eedb-3c0e246e32a5"
      },
      "source": [
        "mode_pred = mode_model.predict(X_test)\n",
        "\n",
        "cm = confusion_matrix(Y_test, mode_pred)   \n",
        "tp = cm[1,1]\n",
        "fn = cm[1,0]\n",
        "fp = cm[0,1]\n",
        "tn = cm[0,0]\n",
        "\n",
        "mmf1score = f1_score(Y_test, mode_pred, pos_label = 1)\n",
        "mmprecision = tp/(tp+fp)\n",
        "mmrecall = tp/(tp+fn)\n",
        "\n",
        "print(\"F1 Score        : \" + str(mmf1score))\n",
        "print(\"Precision Score : \" + str(mmprecision))\n",
        "print(\"Recall Score    : \" + str(mmrecall))"
      ],
      "execution_count": 28,
      "outputs": [
        {
          "output_type": "stream",
          "text": [
            "F1 Score        : 0.0\n",
            "Precision Score : nan\n",
            "Recall Score    : 0.0\n"
          ],
          "name": "stdout"
        },
        {
          "output_type": "stream",
          "text": [
            "/usr/local/lib/python3.6/dist-packages/ipykernel_launcher.py:10: RuntimeWarning: invalid value encountered in long_scalars\n",
            "  # Remove the CWD from sys.path while we load stuff.\n"
          ],
          "name": "stderr"
        }
      ]
    },
    {
      "cell_type": "markdown",
      "metadata": {
        "id": "wKELVvyZ6VMO",
        "colab_type": "text"
      },
      "source": [
        "## <a id='7.3'>7.3. Análise</a>"
      ]
    },
    {
      "cell_type": "markdown",
      "metadata": {
        "id": "B2QFi7jeKqWl",
        "colab_type": "text"
      },
      "source": [
        "Os resultados obtidos podem ser explicados pela grande quantidade de casos de treino negativos no dataset, originando que o valor previsto seja sempre tumor benigno."
      ]
    },
    {
      "cell_type": "markdown",
      "metadata": {
        "id": "kDpSgXW1634c",
        "colab_type": "text"
      },
      "source": [
        "# <a id='8'>8. Classificador Random Forest</a> "
      ]
    },
    {
      "cell_type": "markdown",
      "metadata": {
        "id": "FG5GavBo7PKi",
        "colab_type": "text"
      },
      "source": [
        "## <a id='8.1'>8.1. Primeira experiência</a>"
      ]
    },
    {
      "cell_type": "markdown",
      "metadata": {
        "id": "PigZlkDBLCLu",
        "colab_type": "text"
      },
      "source": [
        "Numa primeira instancia o modelo random forest é construido com os parametros por default. O valor destes parametros pode ser consultado após fazer print do respetivo modelo."
      ]
    },
    {
      "cell_type": "code",
      "metadata": {
        "id": "mzkPq_2eLEEO",
        "colab_type": "code",
        "colab": {
          "base_uri": "https://localhost:8080/",
          "height": 374
        },
        "outputId": "e5a6715b-d405-4e5c-9167-6dff010fd6f2"
      },
      "source": [
        "base_rf_model = RandomForestClassifier()\n",
        "print('Parametros default:\\n')\n",
        "pprint(base_rf_model.get_params())"
      ],
      "execution_count": 29,
      "outputs": [
        {
          "output_type": "stream",
          "text": [
            "Parametros default:\n",
            "\n",
            "{'bootstrap': True,\n",
            " 'ccp_alpha': 0.0,\n",
            " 'class_weight': None,\n",
            " 'criterion': 'gini',\n",
            " 'max_depth': None,\n",
            " 'max_features': 'auto',\n",
            " 'max_leaf_nodes': None,\n",
            " 'max_samples': None,\n",
            " 'min_impurity_decrease': 0.0,\n",
            " 'min_impurity_split': None,\n",
            " 'min_samples_leaf': 1,\n",
            " 'min_samples_split': 2,\n",
            " 'min_weight_fraction_leaf': 0.0,\n",
            " 'n_estimators': 100,\n",
            " 'n_jobs': None,\n",
            " 'oob_score': False,\n",
            " 'random_state': None,\n",
            " 'verbose': 0,\n",
            " 'warm_start': False}\n"
          ],
          "name": "stdout"
        }
      ]
    },
    {
      "cell_type": "markdown",
      "metadata": {
        "id": "S1xeuSWp7PBo",
        "colab_type": "text"
      },
      "source": [
        "## <a id='8.2'>8.2. Fine-Tunning dos parametros</a>"
      ]
    },
    {
      "cell_type": "markdown",
      "metadata": {
        "id": "Ngl_SykkMUwQ",
        "colab_type": "text"
      },
      "source": [
        "No caso do modelo random forest iremos utilizar a ferramenta *RandomizedSearchCV* do sklearn para desvendar quais as melhores combinações de argumentos para o dataset em estudo. Esta ferramenta pode ser utilizada definindo um intervalo de valores para os parametros do modelo. Estes valores irão ser combinados aleatoriamente gerando um modelo especifico. Neste caso iremos gerar 100 modelos aleatorios e usar uma validação cruzada com k=3."
      ]
    },
    {
      "cell_type": "code",
      "metadata": {
        "id": "DkeOSW_VMy6o",
        "colab_type": "code",
        "colab": {}
      },
      "source": [
        "n_estimators = [int(x) for x in np.linspace(start = 200, stop = 2000, num = 10)]\n",
        "max_features = ['auto', 'sqrt']\n",
        "max_depth = [int(x) for x in np.linspace(start = 10, stop = 110, num = 5)]\n",
        "min_samples_split = [2, 5, 10, 15]\n",
        "min_samples_leaf = [1, 2, 4]\n",
        "bootstrap = [True, False]\n",
        "criterion = ['gini', 'entropy']\n",
        "\n",
        "random_grid = {'n_estimators': n_estimators,\n",
        "               'max_features': max_features,\n",
        "               'max_depth': max_depth,\n",
        "               'min_samples_split': min_samples_split,\n",
        "               'min_samples_leaf': min_samples_leaf,\n",
        "               'bootstrap': bootstrap,\n",
        "               'criterion':criterion}"
      ],
      "execution_count": 30,
      "outputs": []
    },
    {
      "cell_type": "markdown",
      "metadata": {
        "id": "19PP2YO5MYnO",
        "colab_type": "text"
      },
      "source": [
        "Fine tunning do modelo aplicado ao dataset completo"
      ]
    },
    {
      "cell_type": "code",
      "metadata": {
        "id": "TjUAWXIGMXRp",
        "colab_type": "code",
        "colab": {
          "base_uri": "https://localhost:8080/",
          "height": 272
        },
        "outputId": "f844664e-766b-497a-8e1e-fdf5fd261d3a"
      },
      "source": [
        "rf_model_v1 = RandomForestClassifier()\n",
        "\n",
        "rf_random_v1 = RandomizedSearchCV(estimator = rf_model_v1, param_distributions = random_grid, n_iter = 100,\n",
        "                               cv = 3, verbose=4, random_state=0, n_jobs = -1)\n",
        "rf_random_v1.fit(X_train, Y_train)\n",
        "\n",
        "print('Os parametros do modelo Random Forest com melhor desempenho são os seguintes:\\n')\n",
        "pprint(rf_random_v1.best_params_)"
      ],
      "execution_count": 31,
      "outputs": [
        {
          "output_type": "stream",
          "text": [
            "Fitting 3 folds for each of 100 candidates, totalling 300 fits\n"
          ],
          "name": "stdout"
        },
        {
          "output_type": "stream",
          "text": [
            "[Parallel(n_jobs=-1)]: Using backend LokyBackend with 2 concurrent workers.\n",
            "[Parallel(n_jobs=-1)]: Done  21 tasks      | elapsed:   45.0s\n",
            "[Parallel(n_jobs=-1)]: Done  94 tasks      | elapsed:  2.2min\n",
            "[Parallel(n_jobs=-1)]: Done 217 tasks      | elapsed:  5.0min\n",
            "[Parallel(n_jobs=-1)]: Done 300 out of 300 | elapsed:  7.1min finished\n"
          ],
          "name": "stderr"
        },
        {
          "output_type": "stream",
          "text": [
            "Os parametros do modelo Random Forest com melhor desempenho são os seguintes:\n",
            "\n",
            "{'bootstrap': True,\n",
            " 'criterion': 'entropy',\n",
            " 'max_depth': 85,\n",
            " 'max_features': 'sqrt',\n",
            " 'min_samples_leaf': 1,\n",
            " 'min_samples_split': 10,\n",
            " 'n_estimators': 600}\n"
          ],
          "name": "stdout"
        }
      ]
    },
    {
      "cell_type": "markdown",
      "metadata": {
        "id": "sWuJdXKKMWvS",
        "colab_type": "text"
      },
      "source": [
        "Fine tunning do modelo aplicado ao dataset optimizado"
      ]
    },
    {
      "cell_type": "code",
      "metadata": {
        "id": "y4x6qunAMdr2",
        "colab_type": "code",
        "colab": {
          "base_uri": "https://localhost:8080/",
          "height": 272
        },
        "outputId": "9afddeda-f0f8-45bc-d7f3-57b3fa9b4a6a"
      },
      "source": [
        "rf_model_v2 = RandomForestClassifier()\n",
        "\n",
        "rf_random_v2 = RandomizedSearchCV(estimator = rf_model_v2, param_distributions = random_grid, n_iter = 100,\n",
        "                               cv = 3, verbose=4, random_state=0, n_jobs = -1)\n",
        "rf_random_v2.fit(new_X_train, new_Y_train)\n",
        "\n",
        "print('Os parametros do modelo Random Forest com melhor desempenho são os seguintes:\\n')\n",
        "pprint(rf_random_v2.best_params_)"
      ],
      "execution_count": 32,
      "outputs": [
        {
          "output_type": "stream",
          "text": [
            "Fitting 3 folds for each of 100 candidates, totalling 300 fits\n"
          ],
          "name": "stdout"
        },
        {
          "output_type": "stream",
          "text": [
            "[Parallel(n_jobs=-1)]: Using backend LokyBackend with 2 concurrent workers.\n",
            "[Parallel(n_jobs=-1)]: Done  21 tasks      | elapsed:   41.4s\n",
            "[Parallel(n_jobs=-1)]: Done  94 tasks      | elapsed:  2.1min\n",
            "[Parallel(n_jobs=-1)]: Done 217 tasks      | elapsed:  4.6min\n",
            "[Parallel(n_jobs=-1)]: Done 300 out of 300 | elapsed:  6.6min finished\n"
          ],
          "name": "stderr"
        },
        {
          "output_type": "stream",
          "text": [
            "Os parametros do modelo Random Forest com melhor desempenho são os seguintes:\n",
            "\n",
            "{'bootstrap': False,\n",
            " 'criterion': 'gini',\n",
            " 'max_depth': 85,\n",
            " 'max_features': 'auto',\n",
            " 'min_samples_leaf': 4,\n",
            " 'min_samples_split': 2,\n",
            " 'n_estimators': 1400}\n"
          ],
          "name": "stdout"
        }
      ]
    },
    {
      "cell_type": "markdown",
      "metadata": {
        "id": "AP8Y8zaH7O5J",
        "colab_type": "text"
      },
      "source": [
        "## <a id='8.3'>8.3. Resultados</a>"
      ]
    },
    {
      "cell_type": "code",
      "metadata": {
        "id": "zwRm7jyjYZOp",
        "colab_type": "code",
        "colab": {}
      },
      "source": [
        "rff1score_v0 = []\n",
        "rfprecision_v0 = []\n",
        "rfrecall_v0 = []\n",
        "evaluate_function(base_rf_model, skf, rff1score_v0, rfprecision_v0, rfrecall_v0, X_train, Y_train)"
      ],
      "execution_count": 33,
      "outputs": []
    },
    {
      "cell_type": "code",
      "metadata": {
        "id": "nekeoJ63Wuwe",
        "colab_type": "code",
        "colab": {}
      },
      "source": [
        "best_rf_v1 = rf_random_v1.best_estimator_\n",
        "\n",
        "rff1score_v1 = []\n",
        "rfprecision_v1 = []\n",
        "rfrecall_v1 = []\n",
        "evaluate_function(best_rf_v1, skf, rff1score_v1, rfprecision_v1, rfrecall_v1, X_train, Y_train)"
      ],
      "execution_count": 34,
      "outputs": []
    },
    {
      "cell_type": "code",
      "metadata": {
        "id": "Ajz8CwtyW1Wz",
        "colab_type": "code",
        "colab": {}
      },
      "source": [
        "best_rf_v2 = rf_random_v2.best_estimator_\n",
        "\n",
        "rff1score_v2 = []\n",
        "rfprecision_v2 = []\n",
        "rfrecall_v2 = []\n",
        "evaluate_function(best_rf_v2, skf, rff1score_v2, rfprecision_v2, rfrecall_v2, new_X_train, new_Y_train)"
      ],
      "execution_count": 35,
      "outputs": []
    },
    {
      "cell_type": "markdown",
      "metadata": {
        "id": "nOLC74AJZQO5",
        "colab_type": "text"
      },
      "source": [
        "Vamos agora ver o resultado F1, a precisão e a cobertura de cada modelo Random Forest e para cada fold da validação cruzada."
      ]
    },
    {
      "cell_type": "code",
      "metadata": {
        "id": "zenv3rNuXJFL",
        "colab_type": "code",
        "colab": {
          "base_uri": "https://localhost:8080/",
          "height": 376
        },
        "outputId": "c5e185aa-0bf3-4d7b-8b6c-cd876494ffde"
      },
      "source": [
        "score_table = pd.DataFrame({\"F1 Score Default\" :rff1score_v1,\n",
        "                            \"F1 Score Full\" :rff1score_v1,\n",
        "                            \"F1 Score Optimizado\" :rff1score_v2,\n",
        "                            \"Precision Default\" :rfprecision_v1,\n",
        "                            \"Precision Full\" :rfprecision_v1,\n",
        "                            \"Precision Optimizado\" :rfprecision_v2,\n",
        "                            \"Recall Default\" :rfrecall_v1,\n",
        "                            \"Recall Full\" :rfrecall_v1,\n",
        "                            \"Recall Optimizado\" :rfrecall_v2})\n",
        "\n",
        "score_table"
      ],
      "execution_count": 36,
      "outputs": [
        {
          "output_type": "execute_result",
          "data": {
            "text/html": [
              "<div>\n",
              "<style scoped>\n",
              "    .dataframe tbody tr th:only-of-type {\n",
              "        vertical-align: middle;\n",
              "    }\n",
              "\n",
              "    .dataframe tbody tr th {\n",
              "        vertical-align: top;\n",
              "    }\n",
              "\n",
              "    .dataframe thead th {\n",
              "        text-align: right;\n",
              "    }\n",
              "</style>\n",
              "<table border=\"1\" class=\"dataframe\">\n",
              "  <thead>\n",
              "    <tr style=\"text-align: right;\">\n",
              "      <th></th>\n",
              "      <th>F1 Score Default</th>\n",
              "      <th>F1 Score Full</th>\n",
              "      <th>F1 Score Optimizado</th>\n",
              "      <th>Precision Default</th>\n",
              "      <th>Precision Full</th>\n",
              "      <th>Precision Optimizado</th>\n",
              "      <th>Recall Default</th>\n",
              "      <th>Recall Full</th>\n",
              "      <th>Recall Optimizado</th>\n",
              "    </tr>\n",
              "  </thead>\n",
              "  <tbody>\n",
              "    <tr>\n",
              "      <th>0</th>\n",
              "      <td>0.909091</td>\n",
              "      <td>0.909091</td>\n",
              "      <td>0.600000</td>\n",
              "      <td>0.833333</td>\n",
              "      <td>0.833333</td>\n",
              "      <td>0.600000</td>\n",
              "      <td>1.000000</td>\n",
              "      <td>1.000000</td>\n",
              "      <td>0.600000</td>\n",
              "    </tr>\n",
              "    <tr>\n",
              "      <th>1</th>\n",
              "      <td>0.714286</td>\n",
              "      <td>0.714286</td>\n",
              "      <td>0.714286</td>\n",
              "      <td>0.555556</td>\n",
              "      <td>0.555556</td>\n",
              "      <td>0.555556</td>\n",
              "      <td>1.000000</td>\n",
              "      <td>1.000000</td>\n",
              "      <td>1.000000</td>\n",
              "    </tr>\n",
              "    <tr>\n",
              "      <th>2</th>\n",
              "      <td>0.800000</td>\n",
              "      <td>0.800000</td>\n",
              "      <td>0.800000</td>\n",
              "      <td>0.800000</td>\n",
              "      <td>0.800000</td>\n",
              "      <td>0.800000</td>\n",
              "      <td>0.800000</td>\n",
              "      <td>0.800000</td>\n",
              "      <td>0.800000</td>\n",
              "    </tr>\n",
              "    <tr>\n",
              "      <th>3</th>\n",
              "      <td>0.571429</td>\n",
              "      <td>0.571429</td>\n",
              "      <td>0.750000</td>\n",
              "      <td>1.000000</td>\n",
              "      <td>1.000000</td>\n",
              "      <td>1.000000</td>\n",
              "      <td>0.400000</td>\n",
              "      <td>0.400000</td>\n",
              "      <td>0.600000</td>\n",
              "    </tr>\n",
              "    <tr>\n",
              "      <th>4</th>\n",
              "      <td>1.000000</td>\n",
              "      <td>1.000000</td>\n",
              "      <td>1.000000</td>\n",
              "      <td>1.000000</td>\n",
              "      <td>1.000000</td>\n",
              "      <td>1.000000</td>\n",
              "      <td>1.000000</td>\n",
              "      <td>1.000000</td>\n",
              "      <td>1.000000</td>\n",
              "    </tr>\n",
              "    <tr>\n",
              "      <th>5</th>\n",
              "      <td>0.888889</td>\n",
              "      <td>0.888889</td>\n",
              "      <td>0.666667</td>\n",
              "      <td>1.000000</td>\n",
              "      <td>1.000000</td>\n",
              "      <td>0.750000</td>\n",
              "      <td>0.800000</td>\n",
              "      <td>0.800000</td>\n",
              "      <td>0.600000</td>\n",
              "    </tr>\n",
              "    <tr>\n",
              "      <th>6</th>\n",
              "      <td>0.909091</td>\n",
              "      <td>0.909091</td>\n",
              "      <td>0.833333</td>\n",
              "      <td>0.833333</td>\n",
              "      <td>0.833333</td>\n",
              "      <td>0.714286</td>\n",
              "      <td>1.000000</td>\n",
              "      <td>1.000000</td>\n",
              "      <td>1.000000</td>\n",
              "    </tr>\n",
              "    <tr>\n",
              "      <th>7</th>\n",
              "      <td>0.727273</td>\n",
              "      <td>0.727273</td>\n",
              "      <td>0.615385</td>\n",
              "      <td>0.800000</td>\n",
              "      <td>0.800000</td>\n",
              "      <td>0.571429</td>\n",
              "      <td>0.666667</td>\n",
              "      <td>0.666667</td>\n",
              "      <td>0.666667</td>\n",
              "    </tr>\n",
              "    <tr>\n",
              "      <th>8</th>\n",
              "      <td>0.727273</td>\n",
              "      <td>0.727273</td>\n",
              "      <td>0.600000</td>\n",
              "      <td>0.800000</td>\n",
              "      <td>0.800000</td>\n",
              "      <td>0.750000</td>\n",
              "      <td>0.666667</td>\n",
              "      <td>0.666667</td>\n",
              "      <td>0.500000</td>\n",
              "    </tr>\n",
              "    <tr>\n",
              "      <th>9</th>\n",
              "      <td>0.833333</td>\n",
              "      <td>0.833333</td>\n",
              "      <td>0.545455</td>\n",
              "      <td>0.714286</td>\n",
              "      <td>0.714286</td>\n",
              "      <td>0.500000</td>\n",
              "      <td>1.000000</td>\n",
              "      <td>1.000000</td>\n",
              "      <td>0.600000</td>\n",
              "    </tr>\n",
              "  </tbody>\n",
              "</table>\n",
              "</div>"
            ],
            "text/plain": [
              "   F1 Score Default  F1 Score Full  ...  Recall Full  Recall Optimizado\n",
              "0          0.909091       0.909091  ...     1.000000           0.600000\n",
              "1          0.714286       0.714286  ...     1.000000           1.000000\n",
              "2          0.800000       0.800000  ...     0.800000           0.800000\n",
              "3          0.571429       0.571429  ...     0.400000           0.600000\n",
              "4          1.000000       1.000000  ...     1.000000           1.000000\n",
              "5          0.888889       0.888889  ...     0.800000           0.600000\n",
              "6          0.909091       0.909091  ...     1.000000           1.000000\n",
              "7          0.727273       0.727273  ...     0.666667           0.666667\n",
              "8          0.727273       0.727273  ...     0.666667           0.500000\n",
              "9          0.833333       0.833333  ...     1.000000           0.600000\n",
              "\n",
              "[10 rows x 9 columns]"
            ]
          },
          "metadata": {
            "tags": []
          },
          "execution_count": 36
        }
      ]
    },
    {
      "cell_type": "markdown",
      "metadata": {
        "id": "E2Eg7CoZ7Otb",
        "colab_type": "text"
      },
      "source": [
        "## <a id='8.4'>8.4. Análise</a>"
      ]
    },
    {
      "cell_type": "code",
      "metadata": {
        "id": "8v1MtFy3YQ3w",
        "colab_type": "code",
        "colab": {
          "base_uri": "https://localhost:8080/",
          "height": 102
        },
        "outputId": "b3f13bb9-f4e2-4965-e2b5-42c536783861"
      },
      "source": [
        "print(\"Random Forest\")\n",
        "print(\"F1 Score  Default : %s\" % \"{0:.3%}\".format(np.mean(rff1score_v0)),   \n",
        "      \"\\tF1 Score  Full : %s\" % \"{0:.3%}\".format(np.mean(rff1score_v1)),   \n",
        "      \"\\tF1 Score Optimizado  : %s\" % \"{0:.3%}\".format(np.mean(rff1score_v2)))\n",
        "print(\"Precision Default : %s\" % \"{0:.3%}\".format(np.mean(rfprecision_v0)), \n",
        "      \"\\tPrecision Full : %s\" % \"{0:.3%}\".format(np.mean(rfprecision_v1)), \n",
        "      \"\\tPrecision Optimizado : %s\" % \"{0:.3%}\".format(np.mean(rfprecision_v2)))\n",
        "print(\"Recall    Default : %s\" % \"{0:.3%}\".format(np.mean(rfrecall_v0)),    \n",
        "      \"\\tRecall    Full : %s\" % \"{0:.3%}\".format(np.mean(rfrecall_v1)),    \n",
        "      \"\\tRecall Optimizado    : %s\" % \"{0:.3%}\".format(np.mean(rfrecall_v2)))\n",
        "print()"
      ],
      "execution_count": 37,
      "outputs": [
        {
          "output_type": "stream",
          "text": [
            "Random Forest\n",
            "F1 Score  Default : 79.677% \tF1 Score  Full : 80.807% \tF1 Score Optimizado  : 71.251%\n",
            "Precision Default : 82.294% \tPrecision Full : 83.365% \tPrecision Optimizado : 72.413%\n",
            "Recall    Default : 81.000% \tRecall    Full : 83.333% \tRecall Optimizado    : 73.667%\n",
            "\n"
          ],
          "name": "stdout"
        }
      ]
    },
    {
      "cell_type": "markdown",
      "metadata": {
        "id": "XcEBYwuSciPG",
        "colab_type": "text"
      },
      "source": [
        "Com estes resultados percebe-se que ao optimizar o dataset removendo e uniformizando alguns atributos, o desempenho do modelo piora. Isto pode ser explicado porque quanto mais complexas forem as árvores de decisão utilizadas, mais informação o modelo irá ter para basear a sua decisão. Ao remover parte dos atributos, as árvores tornar-se-ão mais pequenas e mais simples.\n",
        "\n",
        "Temos por isso um melhor resultado durante a fase de treino no modelo Random Forest com os parametros optimizados e aplicado ao dataset com todos os atributos e sem quaisquere alterações. \n",
        "\n",
        "Este resultado é o esperado, no entanto é de salientar que o mesmo modelo mas com os parametros por default não obtém um resultado assim tão pior. Isto pode ser explicado porque os parametros por default já são previamente definidos após algumas optimizações e não escolhido à sorte como se poderia pensar numa primeira instância."
      ]
    },
    {
      "cell_type": "markdown",
      "metadata": {
        "id": "6F5Xbszk6VHP",
        "colab_type": "text"
      },
      "source": [
        "# <a id='9'>9. Classificador SVM</a> "
      ]
    },
    {
      "cell_type": "markdown",
      "metadata": {
        "id": "inUqL-0R7QkQ",
        "colab_type": "text"
      },
      "source": [
        "## <a id='9.1'>9.1. Primeira experiência</a>"
      ]
    },
    {
      "cell_type": "markdown",
      "metadata": {
        "id": "wLDjA5AMLWtb",
        "colab_type": "text"
      },
      "source": [
        "O modelo a ser testado em seguida é o modelo geométrico SVC, e após a sua construção é possivel verificar os valores dos parametros por defeito para este mesmo modelo. "
      ]
    },
    {
      "cell_type": "code",
      "metadata": {
        "id": "8SBPKKHhLX3V",
        "colab_type": "code",
        "colab": {
          "base_uri": "https://localhost:8080/",
          "height": 306
        },
        "outputId": "a6433c6d-aa57-408d-808b-e6798cbad849"
      },
      "source": [
        "base_svc_model = SVC()\n",
        "print('Parametros default:\\n')\n",
        "pprint(base_svc_model.get_params())"
      ],
      "execution_count": 38,
      "outputs": [
        {
          "output_type": "stream",
          "text": [
            "Parametros default:\n",
            "\n",
            "{'C': 1.0,\n",
            " 'break_ties': False,\n",
            " 'cache_size': 200,\n",
            " 'class_weight': None,\n",
            " 'coef0': 0.0,\n",
            " 'decision_function_shape': 'ovr',\n",
            " 'degree': 3,\n",
            " 'gamma': 'scale',\n",
            " 'kernel': 'rbf',\n",
            " 'max_iter': -1,\n",
            " 'probability': False,\n",
            " 'random_state': None,\n",
            " 'shrinking': True,\n",
            " 'tol': 0.001,\n",
            " 'verbose': False}\n"
          ],
          "name": "stdout"
        }
      ]
    },
    {
      "cell_type": "markdown",
      "metadata": {
        "id": "i14ryVXP7QZq",
        "colab_type": "text"
      },
      "source": [
        "## <a id='9.2'>9.2. Fine-Tunning dos parametros</a>"
      ]
    },
    {
      "cell_type": "markdown",
      "metadata": {
        "id": "r3cXLRJ7aI-P",
        "colab_type": "text"
      },
      "source": [
        "Para o modelo geométrico iremos usar a mesma abordagem utilizando um conjunto de parametros diferentes do modelo anterior. Iremos tambem escolher o melhor conjunto de parametros com uma validação cruzada com k = 10"
      ]
    },
    {
      "cell_type": "code",
      "metadata": {
        "id": "FQkW3ieyaKUp",
        "colab_type": "code",
        "colab": {}
      },
      "source": [
        "parameters = {'kernel':('linear', 'poli'), 'C':[0.1, 1, 10], 'gamma':[1, 0.1, 0.01]}"
      ],
      "execution_count": 39,
      "outputs": []
    },
    {
      "cell_type": "markdown",
      "metadata": {
        "id": "ihm0EScsa04i",
        "colab_type": "text"
      },
      "source": [
        "Fine tunning do modelo aplicado ao dataset completo "
      ]
    },
    {
      "cell_type": "code",
      "metadata": {
        "id": "5cJuQUn0a2ne",
        "colab_type": "code",
        "colab": {
          "base_uri": "https://localhost:8080/",
          "height": 136
        },
        "outputId": "738436c8-f69c-4046-e8c2-2978cee0daee"
      },
      "source": [
        "svc_random_v1 = GridSearchCV(SVC(), parameters, verbose = 4, cv = 3, n_jobs = -1)    \n",
        "\n",
        "svc_random_v1.fit(X_train, Y_train)\n",
        "\n",
        "print('Os parametros do modelo SVC com melhor desempenho são os seguintes:\\n')\n",
        "pprint(svc_random_v1.best_params_)"
      ],
      "execution_count": 40,
      "outputs": [
        {
          "output_type": "stream",
          "text": [
            "Fitting 3 folds for each of 18 candidates, totalling 54 fits\n"
          ],
          "name": "stdout"
        },
        {
          "output_type": "stream",
          "text": [
            "[Parallel(n_jobs=-1)]: Using backend LokyBackend with 2 concurrent workers.\n",
            "[Parallel(n_jobs=-1)]: Done  21 tasks      | elapsed: 22.5min\n",
            "[Parallel(n_jobs=-1)]: Done  54 out of  54 | elapsed: 61.7min finished\n"
          ],
          "name": "stderr"
        },
        {
          "output_type": "stream",
          "text": [
            "Os parametros do modelo SVC com melhor desempenho são os seguintes:\n",
            "\n",
            "{'C': 10, 'gamma': 1, 'kernel': 'linear'}\n"
          ],
          "name": "stdout"
        }
      ]
    },
    {
      "cell_type": "markdown",
      "metadata": {
        "id": "FeeQWm8za3w1",
        "colab_type": "text"
      },
      "source": [
        "Fine tunning do modelo aplicado ao dataset optimizado"
      ]
    },
    {
      "cell_type": "code",
      "metadata": {
        "id": "MBGk8Ccga6js",
        "colab_type": "code",
        "colab": {
          "base_uri": "https://localhost:8080/",
          "height": 136
        },
        "outputId": "e0992f0f-d300-459a-b69e-de7001af2d4f"
      },
      "source": [
        "svc_random_v2 = GridSearchCV(SVC(), parameters, verbose = 4, cv = 3, n_jobs = -1)    \n",
        "\n",
        "svc_random_v2.fit(new_X_train, new_Y_train)\n",
        "\n",
        "print('Os parametros do modelo SVC com melhor desempenho são os seguintes:\\n')\n",
        "pprint(svc_random_v2.best_params_)"
      ],
      "execution_count": 41,
      "outputs": [
        {
          "output_type": "stream",
          "text": [
            "Fitting 3 folds for each of 18 candidates, totalling 54 fits\n"
          ],
          "name": "stdout"
        },
        {
          "output_type": "stream",
          "text": [
            "[Parallel(n_jobs=-1)]: Using backend LokyBackend with 2 concurrent workers.\n"
          ],
          "name": "stderr"
        },
        {
          "output_type": "stream",
          "text": [
            "Os parametros do modelo SVC com melhor desempenho são os seguintes:\n",
            "\n",
            "{'C': 10, 'gamma': 1, 'kernel': 'linear'}\n"
          ],
          "name": "stdout"
        },
        {
          "output_type": "stream",
          "text": [
            "[Parallel(n_jobs=-1)]: Done  52 tasks      | elapsed:    0.2s\n",
            "[Parallel(n_jobs=-1)]: Done  54 out of  54 | elapsed:    0.2s finished\n"
          ],
          "name": "stderr"
        }
      ]
    },
    {
      "cell_type": "markdown",
      "metadata": {
        "id": "K1jMvxT67QN4",
        "colab_type": "text"
      },
      "source": [
        "## <a id='9.3'>9.3. Resultados</a>  "
      ]
    },
    {
      "cell_type": "code",
      "metadata": {
        "id": "2rRHSej0batX",
        "colab_type": "code",
        "colab": {}
      },
      "source": [
        "svcf1score_v0 = []\n",
        "svcprecision_v0 = []\n",
        "svcrecall_v0 = []\n",
        "evaluate_function(base_svc_model, skf, svcf1score_v0, svcprecision_v0, svcrecall_v0, X_train, Y_train)"
      ],
      "execution_count": 42,
      "outputs": []
    },
    {
      "cell_type": "code",
      "metadata": {
        "id": "UvX7JmTCbaL4",
        "colab_type": "code",
        "colab": {}
      },
      "source": [
        "svc_model_v1 = svc_random_v1.best_estimator_\n",
        "\n",
        "svcf1score_v1 = []\n",
        "svcprecision_v1 = []\n",
        "svcrecall_v1 = []\n",
        "evaluate_function(svc_model_v1, skf, svcf1score_v1, svcprecision_v1, svcrecall_v1, X_train, Y_train)"
      ],
      "execution_count": 43,
      "outputs": []
    },
    {
      "cell_type": "code",
      "metadata": {
        "id": "7KYFJi6ybZ_A",
        "colab_type": "code",
        "colab": {}
      },
      "source": [
        "svc_model_v2 = svc_random_v1.best_estimator_\n",
        "\n",
        "svcf1score_v2 = []\n",
        "svcprecision_v2 = []\n",
        "svcrecall_v2 = []\n",
        "evaluate_function(svc_model_v2, skf, svcf1score_v2, svcprecision_v2, svcrecall_v2, new_X_train, new_Y_train)"
      ],
      "execution_count": 44,
      "outputs": []
    },
    {
      "cell_type": "markdown",
      "metadata": {
        "id": "oHJfmlNWa8gO",
        "colab_type": "text"
      },
      "source": [
        "Do mesmo modo que fizemos para os modelos Random Forest, vamos verificar o desempenho em cada fold para cada um dos modelos SVM."
      ]
    },
    {
      "cell_type": "code",
      "metadata": {
        "id": "3TD11DcJcHGC",
        "colab_type": "code",
        "colab": {
          "base_uri": "https://localhost:8080/",
          "height": 376
        },
        "outputId": "b3aace6c-c4f4-4a26-b7c4-34df1fafa541"
      },
      "source": [
        "score_table = pd.DataFrame({\"F1 Score Default\" :svcf1score_v0,\n",
        "                            \"F1 Score Full\" :svcf1score_v1,\n",
        "                            \"F1 Score Optimizado\" :svcf1score_v2,\n",
        "                            \"Precision Default\" :svcprecision_v0,\n",
        "                            \"Precision Full\" :svcprecision_v1,\n",
        "                            \"Precision Optimizado\" :svcprecision_v2,\n",
        "                            \"Recall Default\" :svcrecall_v0,\n",
        "                            \"Recall Full\" :svcrecall_v1,\n",
        "                            \"Recall Optimizado\" :svcrecall_v2})\n",
        "\n",
        "score_table"
      ],
      "execution_count": 45,
      "outputs": [
        {
          "output_type": "execute_result",
          "data": {
            "text/html": [
              "<div>\n",
              "<style scoped>\n",
              "    .dataframe tbody tr th:only-of-type {\n",
              "        vertical-align: middle;\n",
              "    }\n",
              "\n",
              "    .dataframe tbody tr th {\n",
              "        vertical-align: top;\n",
              "    }\n",
              "\n",
              "    .dataframe thead th {\n",
              "        text-align: right;\n",
              "    }\n",
              "</style>\n",
              "<table border=\"1\" class=\"dataframe\">\n",
              "  <thead>\n",
              "    <tr style=\"text-align: right;\">\n",
              "      <th></th>\n",
              "      <th>F1 Score Default</th>\n",
              "      <th>F1 Score Full</th>\n",
              "      <th>F1 Score Optimizado</th>\n",
              "      <th>Precision Default</th>\n",
              "      <th>Precision Full</th>\n",
              "      <th>Precision Optimizado</th>\n",
              "      <th>Recall Default</th>\n",
              "      <th>Recall Full</th>\n",
              "      <th>Recall Optimizado</th>\n",
              "    </tr>\n",
              "  </thead>\n",
              "  <tbody>\n",
              "    <tr>\n",
              "      <th>0</th>\n",
              "      <td>0.800000</td>\n",
              "      <td>0.666667</td>\n",
              "      <td>0.500000</td>\n",
              "      <td>0.800000</td>\n",
              "      <td>0.571429</td>\n",
              "      <td>0.666667</td>\n",
              "      <td>0.8</td>\n",
              "      <td>0.800000</td>\n",
              "      <td>0.4</td>\n",
              "    </tr>\n",
              "    <tr>\n",
              "      <th>1</th>\n",
              "      <td>0.727273</td>\n",
              "      <td>0.588235</td>\n",
              "      <td>0.833333</td>\n",
              "      <td>0.666667</td>\n",
              "      <td>0.416667</td>\n",
              "      <td>0.714286</td>\n",
              "      <td>0.8</td>\n",
              "      <td>1.000000</td>\n",
              "      <td>1.0</td>\n",
              "    </tr>\n",
              "    <tr>\n",
              "      <th>2</th>\n",
              "      <td>0.666667</td>\n",
              "      <td>0.600000</td>\n",
              "      <td>0.666667</td>\n",
              "      <td>0.750000</td>\n",
              "      <td>0.600000</td>\n",
              "      <td>0.750000</td>\n",
              "      <td>0.6</td>\n",
              "      <td>0.600000</td>\n",
              "      <td>0.6</td>\n",
              "    </tr>\n",
              "    <tr>\n",
              "      <th>3</th>\n",
              "      <td>0.571429</td>\n",
              "      <td>0.727273</td>\n",
              "      <td>0.750000</td>\n",
              "      <td>1.000000</td>\n",
              "      <td>0.666667</td>\n",
              "      <td>1.000000</td>\n",
              "      <td>0.4</td>\n",
              "      <td>0.800000</td>\n",
              "      <td>0.6</td>\n",
              "    </tr>\n",
              "    <tr>\n",
              "      <th>4</th>\n",
              "      <td>0.500000</td>\n",
              "      <td>0.666667</td>\n",
              "      <td>0.888889</td>\n",
              "      <td>0.666667</td>\n",
              "      <td>0.571429</td>\n",
              "      <td>1.000000</td>\n",
              "      <td>0.4</td>\n",
              "      <td>0.800000</td>\n",
              "      <td>0.8</td>\n",
              "    </tr>\n",
              "    <tr>\n",
              "      <th>5</th>\n",
              "      <td>0.600000</td>\n",
              "      <td>0.615385</td>\n",
              "      <td>0.800000</td>\n",
              "      <td>0.600000</td>\n",
              "      <td>0.500000</td>\n",
              "      <td>0.800000</td>\n",
              "      <td>0.6</td>\n",
              "      <td>0.800000</td>\n",
              "      <td>0.8</td>\n",
              "    </tr>\n",
              "    <tr>\n",
              "      <th>6</th>\n",
              "      <td>0.750000</td>\n",
              "      <td>0.666667</td>\n",
              "      <td>0.571429</td>\n",
              "      <td>1.000000</td>\n",
              "      <td>0.571429</td>\n",
              "      <td>1.000000</td>\n",
              "      <td>0.6</td>\n",
              "      <td>0.800000</td>\n",
              "      <td>0.4</td>\n",
              "    </tr>\n",
              "    <tr>\n",
              "      <th>7</th>\n",
              "      <td>0.500000</td>\n",
              "      <td>0.714286</td>\n",
              "      <td>0.600000</td>\n",
              "      <td>0.500000</td>\n",
              "      <td>0.625000</td>\n",
              "      <td>0.750000</td>\n",
              "      <td>0.5</td>\n",
              "      <td>0.833333</td>\n",
              "      <td>0.5</td>\n",
              "    </tr>\n",
              "    <tr>\n",
              "      <th>8</th>\n",
              "      <td>0.600000</td>\n",
              "      <td>0.727273</td>\n",
              "      <td>0.923077</td>\n",
              "      <td>0.750000</td>\n",
              "      <td>0.800000</td>\n",
              "      <td>0.857143</td>\n",
              "      <td>0.5</td>\n",
              "      <td>0.666667</td>\n",
              "      <td>1.0</td>\n",
              "    </tr>\n",
              "    <tr>\n",
              "      <th>9</th>\n",
              "      <td>0.800000</td>\n",
              "      <td>0.714286</td>\n",
              "      <td>0.833333</td>\n",
              "      <td>0.800000</td>\n",
              "      <td>0.555556</td>\n",
              "      <td>0.714286</td>\n",
              "      <td>0.8</td>\n",
              "      <td>1.000000</td>\n",
              "      <td>1.0</td>\n",
              "    </tr>\n",
              "  </tbody>\n",
              "</table>\n",
              "</div>"
            ],
            "text/plain": [
              "   F1 Score Default  F1 Score Full  ...  Recall Full  Recall Optimizado\n",
              "0          0.800000       0.666667  ...     0.800000                0.4\n",
              "1          0.727273       0.588235  ...     1.000000                1.0\n",
              "2          0.666667       0.600000  ...     0.600000                0.6\n",
              "3          0.571429       0.727273  ...     0.800000                0.6\n",
              "4          0.500000       0.666667  ...     0.800000                0.8\n",
              "5          0.600000       0.615385  ...     0.800000                0.8\n",
              "6          0.750000       0.666667  ...     0.800000                0.4\n",
              "7          0.500000       0.714286  ...     0.833333                0.5\n",
              "8          0.600000       0.727273  ...     0.666667                1.0\n",
              "9          0.800000       0.714286  ...     1.000000                1.0\n",
              "\n",
              "[10 rows x 9 columns]"
            ]
          },
          "metadata": {
            "tags": []
          },
          "execution_count": 45
        }
      ]
    },
    {
      "cell_type": "markdown",
      "metadata": {
        "id": "JrcyR1847PwU",
        "colab_type": "text"
      },
      "source": [
        "## <a id='9.4'>9.4. Análise</a>"
      ]
    },
    {
      "cell_type": "code",
      "metadata": {
        "id": "AlJTvSXAcWWx",
        "colab_type": "code",
        "colab": {
          "base_uri": "https://localhost:8080/",
          "height": 102
        },
        "outputId": "dd0910ba-f3ba-401a-a860-2feec4fa9e73"
      },
      "source": [
        "print(\"SVC\")\n",
        "print(\"F1 Score  Default : %s\" % \"{0:.3%}\".format(np.mean(svcf1score_v0)),   \n",
        "      \"\\tF1 Score  Full : %s\" % \"{0:.3%}\".format(np.mean(svcf1score_v1)),   \n",
        "      \"\\tF1 Score Optimizado  : %s\" % \"{0:.3%}\".format(np.mean(svcf1score_v2)))\n",
        "print(\"Precision Default : %s\" % \"{0:.3%}\".format(np.mean(svcprecision_v0)), \n",
        "      \"\\tPrecision Full : %s\" % \"{0:.3%}\".format(np.mean(svcprecision_v1)), \n",
        "      \"\\tPrecision Optimizado : %s\" % \"{0:.3%}\".format(np.mean(svcprecision_v2)))\n",
        "print(\"Recall    Default : %s\" % \"{0:.3%}\".format(np.mean(svcrecall_v0)),    \n",
        "      \"\\tRecall    Full : %s\" % \"{0:.3%}\".format(np.mean(svcrecall_v1)),    \n",
        "      \"\\tRecall Optimizado    : %s\" % \"{0:.3%}\".format(np.mean(svcrecall_v2)))\n",
        "print()"
      ],
      "execution_count": 46,
      "outputs": [
        {
          "output_type": "stream",
          "text": [
            "SVC\n",
            "F1 Score  Default : 65.154% \tF1 Score  Full : 66.867% \tF1 Score Optimizado  : 73.667%\n",
            "Precision Default : 75.333% \tPrecision Full : 58.782% \tPrecision Optimizado : 82.524%\n",
            "Recall    Default : 60.000% \tRecall    Full : 81.000% \tRecall Optimizado    : 71.000%\n",
            "\n"
          ],
          "name": "stdout"
        }
      ]
    },
    {
      "cell_type": "markdown",
      "metadata": {
        "id": "wOv71OOa2WiW",
        "colab_type": "text"
      },
      "source": [
        "Ao contrário do modelo Random Forest, o SVM obtem um melhor desempenho quando aplicado ao dataset optimizado. Isto acontece pois o modelo atua melhor quando exposto a um dataset uniformizado. A diferença para o mesmo modelo mas aplicado ao dataset normal é por isso bastante acentuada principalmente ao nível da precisão. No entanto este aumento da precisão tem como consequência a diminuição ao nivel da cobertura.\n",
        "\n",
        "De notar que os resultados poderia ser melhores mas o processo de optimização é muito complexo para este modelo, e devido a limitações ao nível de recursos computacionais esta tarefa poderia se tornar demasiado longa e inexequível."
      ]
    },
    {
      "cell_type": "markdown",
      "metadata": {
        "id": "18SfEEcm6VBQ",
        "colab_type": "text"
      },
      "source": [
        "# <a id='10'>10. Classificador Naive Bayes</a> "
      ]
    },
    {
      "cell_type": "markdown",
      "metadata": {
        "id": "g4m5CRu_7R7o",
        "colab_type": "text"
      },
      "source": [
        "## <a id='10.1'>10.1. Primeira experiência</a>"
      ]
    },
    {
      "cell_type": "markdown",
      "metadata": {
        "id": "Su_DWEE6LpND",
        "colab_type": "text"
      },
      "source": [
        "Por último é construido o modelo naive bayes com os parametros por defeito. Este modelo apenas aceita dois parametros, sendo que apenas um deles é usado no processo de fine-tunning."
      ]
    },
    {
      "cell_type": "code",
      "metadata": {
        "id": "xmUzI5i2LwOs",
        "colab_type": "code",
        "colab": {
          "base_uri": "https://localhost:8080/",
          "height": 68
        },
        "outputId": "059552ee-6758-4464-c04e-89ac0651c20f"
      },
      "source": [
        "base_gnb_model = GaussianNB()\n",
        "print('Parametros default:\\n')\n",
        "pprint(base_gnb_model.get_params())"
      ],
      "execution_count": 47,
      "outputs": [
        {
          "output_type": "stream",
          "text": [
            "Parametros default:\n",
            "\n",
            "{'priors': None, 'var_smoothing': 1e-09}\n"
          ],
          "name": "stdout"
        }
      ]
    },
    {
      "cell_type": "markdown",
      "metadata": {
        "id": "OhQPd5qW7Rzl",
        "colab_type": "text"
      },
      "source": [
        "## <a id='10.2'>10.2. Fine-Tunning dos parametros</a>"
      ]
    },
    {
      "cell_type": "markdown",
      "metadata": {
        "id": "aSNUtVlycpeo",
        "colab_type": "text"
      },
      "source": [
        "O processo será o mesmo para o último modelo em estudo."
      ]
    },
    {
      "cell_type": "code",
      "metadata": {
        "id": "gm_bLqt9ctY6",
        "colab_type": "code",
        "colab": {}
      },
      "source": [
        "random_grid = {'var_smoothing': [1e-08, 1e-09, 1e-10, 1e-11, 1e-12, 1e-13, 1e-14, 1e-15, 1e-16, 1e-17 ]}"
      ],
      "execution_count": 48,
      "outputs": []
    },
    {
      "cell_type": "markdown",
      "metadata": {
        "id": "gAyB60iWc1wd",
        "colab_type": "text"
      },
      "source": [
        "Fine tunning do modelo aplicado ao dataset completo"
      ]
    },
    {
      "cell_type": "code",
      "metadata": {
        "id": "9GcSGbcNctPN",
        "colab_type": "code",
        "colab": {
          "base_uri": "https://localhost:8080/",
          "height": 136
        },
        "outputId": "187e09b9-2c6a-46fb-f394-bc4fbd23d9cb"
      },
      "source": [
        "gnb_random_v1 = RandomizedSearchCV(GaussianNB(), param_distributions = random_grid, n_iter = 8,\n",
        "                               cv = 10, verbose=3, random_state=0, n_jobs = -1)\n",
        "  \n",
        "gnb_random_v1.fit(X_train, Y_train)\n",
        "\n",
        "print('Os parametros do modelo SVC com melhor desempenho são os seguintes:\\n')\n",
        "pprint(gnb_random_v1.best_params_)"
      ],
      "execution_count": 49,
      "outputs": [
        {
          "output_type": "stream",
          "text": [
            "Fitting 10 folds for each of 8 candidates, totalling 80 fits\n"
          ],
          "name": "stdout"
        },
        {
          "output_type": "stream",
          "text": [
            "[Parallel(n_jobs=-1)]: Using backend LokyBackend with 2 concurrent workers.\n"
          ],
          "name": "stderr"
        },
        {
          "output_type": "stream",
          "text": [
            "Os parametros do modelo SVC com melhor desempenho são os seguintes:\n",
            "\n",
            "{'var_smoothing': 1e-14}\n"
          ],
          "name": "stdout"
        },
        {
          "output_type": "stream",
          "text": [
            "[Parallel(n_jobs=-1)]: Done  72 tasks      | elapsed:    0.9s\n",
            "[Parallel(n_jobs=-1)]: Done  80 out of  80 | elapsed:    1.0s finished\n"
          ],
          "name": "stderr"
        }
      ]
    },
    {
      "cell_type": "markdown",
      "metadata": {
        "id": "JXQiPcYhc7-f",
        "colab_type": "text"
      },
      "source": [
        "Fine tunning do modelo aplicado ao dataset optimizado"
      ]
    },
    {
      "cell_type": "code",
      "metadata": {
        "id": "1ufGvyA6ctB2",
        "colab_type": "code",
        "colab": {
          "base_uri": "https://localhost:8080/",
          "height": 136
        },
        "outputId": "d00cfdae-4eb6-4877-aa99-c5a7ef5b61b2"
      },
      "source": [
        "gnb_random_v2 = RandomizedSearchCV(GaussianNB(), param_distributions = random_grid, n_iter = 8,\n",
        "                               cv = 10, verbose=3, random_state=0, n_jobs = -1)\n",
        "  \n",
        "gnb_random_v2.fit(new_X_train, new_Y_train)\n",
        "\n",
        "print('Os parametros do modelo SVC com melhor desempenho são os seguintes:\\n')\n",
        "pprint(gnb_random_v2.best_params_)"
      ],
      "execution_count": 50,
      "outputs": [
        {
          "output_type": "stream",
          "text": [
            "[Parallel(n_jobs=-1)]: Using backend LokyBackend with 2 concurrent workers.\n"
          ],
          "name": "stderr"
        },
        {
          "output_type": "stream",
          "text": [
            "Fitting 10 folds for each of 8 candidates, totalling 80 fits\n",
            "Os parametros do modelo SVC com melhor desempenho são os seguintes:\n",
            "\n",
            "{'var_smoothing': 1e-09}\n"
          ],
          "name": "stdout"
        },
        {
          "output_type": "stream",
          "text": [
            "[Parallel(n_jobs=-1)]: Done  72 tasks      | elapsed:    0.2s\n",
            "[Parallel(n_jobs=-1)]: Done  80 out of  80 | elapsed:    0.2s finished\n"
          ],
          "name": "stderr"
        }
      ]
    },
    {
      "cell_type": "markdown",
      "metadata": {
        "id": "0Pk_Kfiq7RrJ",
        "colab_type": "text"
      },
      "source": [
        "## <a id='10.3'>10.3. Resultados</a>\n"
      ]
    },
    {
      "cell_type": "code",
      "metadata": {
        "id": "Ow9kJjp6dVzQ",
        "colab_type": "code",
        "colab": {}
      },
      "source": [
        "gnbf1score_v0 = []\n",
        "gnbprecision_v0 = []\n",
        "gnbrecall_v0 = []\n",
        "evaluate_function(base_gnb_model, skf, gnbf1score_v0, gnbprecision_v0, gnbrecall_v0, X_train, Y_train)"
      ],
      "execution_count": 51,
      "outputs": []
    },
    {
      "cell_type": "code",
      "metadata": {
        "id": "wOxmYKm8dVqd",
        "colab_type": "code",
        "colab": {}
      },
      "source": [
        "gnb_model_v1 = gnb_random_v1.best_estimator_\n",
        "\n",
        "gnbf1score_v1 = []\n",
        "gnbprecision_v1 = []\n",
        "gnbrecall_v1 = []\n",
        "evaluate_function(gnb_model_v1, skf, gnbf1score_v1, gnbprecision_v1, gnbrecall_v1, X_train, Y_train)"
      ],
      "execution_count": 52,
      "outputs": []
    },
    {
      "cell_type": "code",
      "metadata": {
        "id": "nvI6JcJ4dVhY",
        "colab_type": "code",
        "colab": {}
      },
      "source": [
        "gnb_model_v2 = gnb_random_v2.best_estimator_\n",
        "\n",
        "gnbf1score_v2 = []\n",
        "gnbprecision_v2 = []\n",
        "gnbrecall_v2 = []\n",
        "evaluate_function(gnb_model_v2, skf, gnbf1score_v2, gnbprecision_v2, gnbrecall_v2, new_X_train, new_Y_train)"
      ],
      "execution_count": 53,
      "outputs": []
    },
    {
      "cell_type": "markdown",
      "metadata": {
        "id": "xd5lAfSJcLiK",
        "colab_type": "text"
      },
      "source": [
        "Os resultados para cada fold são apresentados na tabela em seguida do mesmo modo que foram apresentados para os outros modelos."
      ]
    },
    {
      "cell_type": "code",
      "metadata": {
        "id": "Q2Gl70DweHdd",
        "colab_type": "code",
        "colab": {
          "base_uri": "https://localhost:8080/",
          "height": 376
        },
        "outputId": "43ff1166-3e26-4a24-d8af-57bd8ef265a5"
      },
      "source": [
        "score_table = pd.DataFrame({\"F1 Score Default\" :gnbf1score_v0,\n",
        "                            \"F1 Score Full\" :gnbf1score_v1,\n",
        "                            \"F1 Score Optimizado\" :gnbf1score_v2,\n",
        "                            \"Precision Default\" :gnbprecision_v0,\n",
        "                            \"Precision Full\" :gnbprecision_v1,\n",
        "                            \"Precision Optimizado\" :gnbprecision_v2,\n",
        "                            \"Recall Default\" :gnbrecall_v0,\n",
        "                            \"Recall Full\" :gnbrecall_v1,\n",
        "                            \"Recall Optimizado\" :gnbrecall_v2})\n",
        "\n",
        "score_table"
      ],
      "execution_count": 54,
      "outputs": [
        {
          "output_type": "execute_result",
          "data": {
            "text/html": [
              "<div>\n",
              "<style scoped>\n",
              "    .dataframe tbody tr th:only-of-type {\n",
              "        vertical-align: middle;\n",
              "    }\n",
              "\n",
              "    .dataframe tbody tr th {\n",
              "        vertical-align: top;\n",
              "    }\n",
              "\n",
              "    .dataframe thead th {\n",
              "        text-align: right;\n",
              "    }\n",
              "</style>\n",
              "<table border=\"1\" class=\"dataframe\">\n",
              "  <thead>\n",
              "    <tr style=\"text-align: right;\">\n",
              "      <th></th>\n",
              "      <th>F1 Score Default</th>\n",
              "      <th>F1 Score Full</th>\n",
              "      <th>F1 Score Optimizado</th>\n",
              "      <th>Precision Default</th>\n",
              "      <th>Precision Full</th>\n",
              "      <th>Precision Optimizado</th>\n",
              "      <th>Recall Default</th>\n",
              "      <th>Recall Full</th>\n",
              "      <th>Recall Optimizado</th>\n",
              "    </tr>\n",
              "  </thead>\n",
              "  <tbody>\n",
              "    <tr>\n",
              "      <th>0</th>\n",
              "      <td>0.625000</td>\n",
              "      <td>0.666667</td>\n",
              "      <td>0.666667</td>\n",
              "      <td>0.454545</td>\n",
              "      <td>0.500000</td>\n",
              "      <td>0.500000</td>\n",
              "      <td>1.000000</td>\n",
              "      <td>1.0</td>\n",
              "      <td>1.0</td>\n",
              "    </tr>\n",
              "    <tr>\n",
              "      <th>1</th>\n",
              "      <td>0.588235</td>\n",
              "      <td>0.714286</td>\n",
              "      <td>0.666667</td>\n",
              "      <td>0.416667</td>\n",
              "      <td>0.555556</td>\n",
              "      <td>0.500000</td>\n",
              "      <td>1.000000</td>\n",
              "      <td>1.0</td>\n",
              "      <td>1.0</td>\n",
              "    </tr>\n",
              "    <tr>\n",
              "      <th>2</th>\n",
              "      <td>0.714286</td>\n",
              "      <td>0.833333</td>\n",
              "      <td>0.833333</td>\n",
              "      <td>0.555556</td>\n",
              "      <td>0.714286</td>\n",
              "      <td>0.714286</td>\n",
              "      <td>1.000000</td>\n",
              "      <td>1.0</td>\n",
              "      <td>1.0</td>\n",
              "    </tr>\n",
              "    <tr>\n",
              "      <th>3</th>\n",
              "      <td>0.666667</td>\n",
              "      <td>0.833333</td>\n",
              "      <td>0.666667</td>\n",
              "      <td>0.500000</td>\n",
              "      <td>0.714286</td>\n",
              "      <td>0.500000</td>\n",
              "      <td>1.000000</td>\n",
              "      <td>1.0</td>\n",
              "      <td>1.0</td>\n",
              "    </tr>\n",
              "    <tr>\n",
              "      <th>4</th>\n",
              "      <td>0.555556</td>\n",
              "      <td>0.625000</td>\n",
              "      <td>0.588235</td>\n",
              "      <td>0.384615</td>\n",
              "      <td>0.454545</td>\n",
              "      <td>0.416667</td>\n",
              "      <td>1.000000</td>\n",
              "      <td>1.0</td>\n",
              "      <td>1.0</td>\n",
              "    </tr>\n",
              "    <tr>\n",
              "      <th>5</th>\n",
              "      <td>0.500000</td>\n",
              "      <td>0.800000</td>\n",
              "      <td>0.571429</td>\n",
              "      <td>0.363636</td>\n",
              "      <td>0.800000</td>\n",
              "      <td>0.444444</td>\n",
              "      <td>0.800000</td>\n",
              "      <td>0.8</td>\n",
              "      <td>0.8</td>\n",
              "    </tr>\n",
              "    <tr>\n",
              "      <th>6</th>\n",
              "      <td>0.500000</td>\n",
              "      <td>0.833333</td>\n",
              "      <td>0.666667</td>\n",
              "      <td>0.363636</td>\n",
              "      <td>0.714286</td>\n",
              "      <td>0.500000</td>\n",
              "      <td>0.800000</td>\n",
              "      <td>1.0</td>\n",
              "      <td>1.0</td>\n",
              "    </tr>\n",
              "    <tr>\n",
              "      <th>7</th>\n",
              "      <td>0.705882</td>\n",
              "      <td>0.857143</td>\n",
              "      <td>0.800000</td>\n",
              "      <td>0.545455</td>\n",
              "      <td>0.750000</td>\n",
              "      <td>0.666667</td>\n",
              "      <td>1.000000</td>\n",
              "      <td>1.0</td>\n",
              "      <td>1.0</td>\n",
              "    </tr>\n",
              "    <tr>\n",
              "      <th>8</th>\n",
              "      <td>0.588235</td>\n",
              "      <td>0.666667</td>\n",
              "      <td>0.705882</td>\n",
              "      <td>0.454545</td>\n",
              "      <td>0.500000</td>\n",
              "      <td>0.545455</td>\n",
              "      <td>0.833333</td>\n",
              "      <td>1.0</td>\n",
              "      <td>1.0</td>\n",
              "    </tr>\n",
              "    <tr>\n",
              "      <th>9</th>\n",
              "      <td>0.555556</td>\n",
              "      <td>0.666667</td>\n",
              "      <td>0.588235</td>\n",
              "      <td>0.384615</td>\n",
              "      <td>0.500000</td>\n",
              "      <td>0.416667</td>\n",
              "      <td>1.000000</td>\n",
              "      <td>1.0</td>\n",
              "      <td>1.0</td>\n",
              "    </tr>\n",
              "  </tbody>\n",
              "</table>\n",
              "</div>"
            ],
            "text/plain": [
              "   F1 Score Default  F1 Score Full  ...  Recall Full  Recall Optimizado\n",
              "0          0.625000       0.666667  ...          1.0                1.0\n",
              "1          0.588235       0.714286  ...          1.0                1.0\n",
              "2          0.714286       0.833333  ...          1.0                1.0\n",
              "3          0.666667       0.833333  ...          1.0                1.0\n",
              "4          0.555556       0.625000  ...          1.0                1.0\n",
              "5          0.500000       0.800000  ...          0.8                0.8\n",
              "6          0.500000       0.833333  ...          1.0                1.0\n",
              "7          0.705882       0.857143  ...          1.0                1.0\n",
              "8          0.588235       0.666667  ...          1.0                1.0\n",
              "9          0.555556       0.666667  ...          1.0                1.0\n",
              "\n",
              "[10 rows x 9 columns]"
            ]
          },
          "metadata": {
            "tags": []
          },
          "execution_count": 54
        }
      ]
    },
    {
      "cell_type": "markdown",
      "metadata": {
        "id": "rTCwETRG7RiQ",
        "colab_type": "text"
      },
      "source": [
        "## <a id='10.4'>10.4. Análise</a>"
      ]
    },
    {
      "cell_type": "code",
      "metadata": {
        "id": "XFjLu4MfIFKk",
        "colab_type": "code",
        "colab": {
          "base_uri": "https://localhost:8080/",
          "height": 102
        },
        "outputId": "d1a0be0a-353d-45cb-919e-2b36799318e1"
      },
      "source": [
        "print(\"Naive Bayes\")\n",
        "print(\"F1 Score  Default : %s\" % \"{0:.3%}\".format(np.mean(gnbf1score_v0)),   \n",
        "      \"\\tF1 Score  Full : %s\" % \"{0:.3%}\".format(np.mean(gnbf1score_v1)),   \n",
        "      \"\\tF1 Score Optimizado  : %s\" % \"{0:.3%}\".format(np.mean(gnbf1score_v2)))\n",
        "print(\"Precision Default : %s\" % \"{0:.3%}\".format(np.mean(gnbprecision_v0)), \n",
        "      \"\\tPrecision Full : %s\" % \"{0:.3%}\".format(np.mean(gnbprecision_v1)), \n",
        "      \"\\tPrecision Optimizado : %s\" % \"{0:.3%}\".format(np.mean(gnbprecision_v2)))\n",
        "print(\"Recall    Default : %s\" % \"{0:.3%}\".format(np.mean(gnbrecall_v0)),    \n",
        "      \"\\tRecall    Full : %s\" % \"{0:.3%}\".format(np.mean(gnbrecall_v1)),    \n",
        "      \"\\tRecall Optimizado    : %s\" % \"{0:.3%}\".format(np.mean(gnbrecall_v2)))\n",
        "print()"
      ],
      "execution_count": 55,
      "outputs": [
        {
          "output_type": "stream",
          "text": [
            "Naive Bayes\n",
            "F1 Score  Default : 59.994% \tF1 Score  Full : 74.964% \tF1 Score Optimizado  : 67.538%\n",
            "Precision Default : 44.233% \tPrecision Full : 62.030% \tPrecision Optimizado : 52.042%\n",
            "Recall    Default : 94.333% \tRecall    Full : 98.000% \tRecall Optimizado    : 98.000%\n",
            "\n"
          ],
          "name": "stdout"
        }
      ]
    },
    {
      "cell_type": "markdown",
      "metadata": {
        "id": "rqnLSsb23FYT",
        "colab_type": "text"
      },
      "source": [
        "Para este último modelo em estudo é notória o seu alto desempenho a nível de cobertura. No entanto este resultado tem como contrapartida a fraca precisão. Isto significa que o modelo encontra muitos tumores malignos mas ao mesmo tempo origina muitos falsos positivos. Podemos assim afirmar que o modelo não tem um bom desempenho, porque numa situação real não é nada agradável informar um paciente que tem um tumor maligno quando na verdade não o tem.\n",
        "\n",
        "Tambem a optimização do dataset parece não ter um efeito positivo no desempenho do modelo visto que os resultados são um ligeiramente piores."
      ]
    },
    {
      "cell_type": "markdown",
      "metadata": {
        "id": "KFlyVGKecwLs",
        "colab_type": "text"
      },
      "source": [
        "# <a id='11'>11. Resultados nos Conjunto de Testes</a> "
      ]
    },
    {
      "cell_type": "markdown",
      "metadata": {
        "id": "AKgIb6_Idl2F",
        "colab_type": "text"
      },
      "source": [
        "Passamos agora à fase final deste projeto que consiste em escolher os modelos com melhor desempenho durante a fase de treino quando aplicados ao dataset inicial e ao dataset optimizado. Ao escolher estes dois modelos, ambos serão postos à prova perante os respetivos conjuntos de treino. Para isto não será aplicada validação cruzada, pois estaremos a simular uma situação real que ambos os modelos podem a vir ter que desempenhar.\n",
        "\n",
        "Na escolha do melhor modelo para cada um dos casos iremos olhar para o resultado F1, no entanto em caso de resultados muito próximos, iremos ter em conta tambem os resultados da precisão e cobertura."
      ]
    },
    {
      "cell_type": "markdown",
      "metadata": {
        "id": "sFFwSoNIc_2u",
        "colab_type": "text"
      },
      "source": [
        "## <a id='11.1'>11.1. Dataset Inicial</a>"
      ]
    },
    {
      "cell_type": "markdown",
      "metadata": {
        "id": "FmxC40oreeTL",
        "colab_type": "text"
      },
      "source": [
        "Perante o dataset inicial que não sofreu qualquer tipo de optimização os três modelos obtiveram os seguintes resultados:"
      ]
    },
    {
      "cell_type": "code",
      "metadata": {
        "id": "VQiPQ7wZcmf0",
        "colab_type": "code",
        "colab": {
          "base_uri": "https://localhost:8080/",
          "height": 68
        },
        "outputId": "de9a9dfe-4d93-4ace-a276-c3edade5c0d6"
      },
      "source": [
        "print(\"F1 Score Random F.    : %s\" % \"{0:.3%}\".format(np.mean(rff1score_v1)),   \n",
        "      \"\\tPrecision Random F.   : %s\" % \"{0:.3%}\".format(np.mean(rfprecision_v1)),   \n",
        "      \"\\tRecall Random F.   : %s\" % \"{0:.3%}\".format(np.mean(rfrecall_v1)))\n",
        "print(\"F1 Score SVM          : %s\" % \"{0:.3%}\".format(np.mean(svcf1score_v1)), \n",
        "      \"\\tPrecision SVM         : %s\" % \"{0:.3%}\".format(np.mean(svcprecision_v1)), \n",
        "      \"\\tRecall SVM         : %s\" % \"{0:.3%}\".format(np.mean(svcrecall_v1)))\n",
        "print(\"F1 Score Naive Bayes  : %s\" % \"{0:.3%}\".format(np.mean(gnbf1score_v1)),    \n",
        "      \"\\tPrecision Naive Bayes : %s\" % \"{0:.3%}\".format(np.mean(gnbprecision_v1)),    \n",
        "      \"\\tRecall Naive Bayes : %s\" % \"{0:.3%}\".format(np.mean(gnbrecall_v1)))"
      ],
      "execution_count": 65,
      "outputs": [
        {
          "output_type": "stream",
          "text": [
            "F1 Score Random F.    : 80.807% \tPrecision Random F.   : 83.365% \tRecall Random F.   : 83.333%\n",
            "F1 Score SVM          : 66.867% \tPrecision SVM         : 58.782% \tRecall SVM         : 81.000%\n",
            "F1 Score Naive Bayes  : 74.964% \tPrecision Naive Bayes : 62.030% \tRecall Naive Bayes : 98.000%\n"
          ],
          "name": "stdout"
        }
      ]
    },
    {
      "cell_type": "markdown",
      "metadata": {
        "id": "OqbU9Me77d2Z",
        "colab_type": "text"
      },
      "source": [
        "Podemos verificar que o modelo com melhor desempenho, e consequentemente o escolhido para aplicar sobre o conjunto de testes, é o modelo Random Forest que obteve o melhor desempenho em todas as medidas de avaliação exceputando a cobertura."
      ]
    },
    {
      "cell_type": "code",
      "metadata": {
        "id": "QBbv3InHfj1B",
        "colab_type": "code",
        "colab": {}
      },
      "source": [
        "y_pred = best_rf_v1.predict(X_test)\n",
        "\n",
        "cm = confusion_matrix(Y_test, y_pred)\n",
        "tp = cm[1,1]\n",
        "fn = cm[1,0]\n",
        "fp = cm[0,1]\n",
        "tn = cm[0,0]\n",
        "\n",
        "f1score = f1_score(Y_test, y_pred, pos_label = 1)\n",
        "precision = tp/(tp+fp)\n",
        "recall = tp/(tp+fn)"
      ],
      "execution_count": 68,
      "outputs": []
    },
    {
      "cell_type": "code",
      "metadata": {
        "id": "KUXNUCsJAQsE",
        "colab_type": "code",
        "colab": {
          "base_uri": "https://localhost:8080/",
          "height": 68
        },
        "outputId": "a26dbc8c-53a7-4926-b833-c4e527628375"
      },
      "source": [
        "print(\"Confusion Matrix\")\n",
        "print(cm)"
      ],
      "execution_count": 73,
      "outputs": [
        {
          "output_type": "stream",
          "text": [
            "Confusion Matrix\n",
            "[[132   6]\n",
            " [  7  18]]\n"
          ],
          "name": "stdout"
        }
      ]
    },
    {
      "cell_type": "code",
      "metadata": {
        "id": "tLc7cw05_GvQ",
        "colab_type": "code",
        "colab": {
          "base_uri": "https://localhost:8080/",
          "height": 68
        },
        "outputId": "76d2e745-39b6-4bb9-b596-5dbe9d140b9c"
      },
      "source": [
        "print(\"F1 Score  = %s\" % \"{0:.3%}\".format(np.mean(f1score)))\n",
        "print(\"Precision = %s\" % \"{0:.3%}\".format(np.mean(precision)))\n",
        "print(\"Recall    = %s\" % \"{0:.3%}\".format(np.mean(recall)))"
      ],
      "execution_count": 70,
      "outputs": [
        {
          "output_type": "stream",
          "text": [
            "F1 Score  = 73.469%\n",
            "Precision = 75.000%\n",
            "Recall    = 72.000%\n"
          ],
          "name": "stdout"
        }
      ]
    },
    {
      "cell_type": "markdown",
      "metadata": {
        "id": "9kl9MgggBQtu",
        "colab_type": "text"
      },
      "source": [
        "O resultado do modelo aplicado ao conjunto de testes é de certo modo satisfatório com todas as medidas de avaliação a obterem resultados semelhantes. Ao olhar para a confusion matrix podemos ver que o modelo conseguiu prever corretamente 18 tumores malignos de um total de 25 exames.\n",
        "\n",
        "Apesar de satisfatórios estes resultados podem ainda ser melhorados usando um dataset maior ou mais completo, ou então ao utilizar um maior intervalo de valores durante o processo de fine-tunning. Estas hipóteses requerem ambas condições não disponíveis durante a execução deste projeto."
      ]
    },
    {
      "cell_type": "markdown",
      "metadata": {
        "id": "FrY46ofyCHJV",
        "colab_type": "text"
      },
      "source": [
        "## <a id='11.2'>11.2. Dataset Optimizado</a>"
      ]
    },
    {
      "cell_type": "markdown",
      "metadata": {
        "id": "KiTf-0Y9CRgu",
        "colab_type": "text"
      },
      "source": [
        "O próximo passo consiste em replicar o procedimento anterior mas desta vez utilizando os modelos gerados para o dataset com atributos optimizados.\n",
        "\n",
        "Os resultados obtidos durante o processo de treino são os seguintes:"
      ]
    },
    {
      "cell_type": "code",
      "metadata": {
        "id": "qUvO3JRu_1_S",
        "colab_type": "code",
        "colab": {
          "base_uri": "https://localhost:8080/",
          "height": 68
        },
        "outputId": "f7f43379-9189-4144-ac64-882d2ee6c4cf"
      },
      "source": [
        "print(\"F1 Score Random F.    : %s\" % \"{0:.3%}\".format(np.mean(rff1score_v2)),   \n",
        "      \"\\tPrecision Random F.   : %s\" % \"{0:.3%}\".format(np.mean(rfprecision_v2)),   \n",
        "      \"\\tRecall Random F.   : %s\" % \"{0:.3%}\".format(np.mean(rfrecall_v2)))\n",
        "print(\"F1 Score SVM          : %s\" % \"{0:.3%}\".format(np.mean(svcf1score_v2)), \n",
        "      \"\\tPrecision SVM         : %s\" % \"{0:.3%}\".format(np.mean(svcprecision_v2)), \n",
        "      \"\\tRecall SVM         : %s\" % \"{0:.3%}\".format(np.mean(svcrecall_v2)))\n",
        "print(\"F1 Score Naive Bayes  : %s\" % \"{0:.3%}\".format(np.mean(gnbf1score_v2)),    \n",
        "      \"\\tPrecision Naive Bayes : %s\" % \"{0:.3%}\".format(np.mean(gnbprecision_v2)),    \n",
        "      \"\\tRecall Naive Bayes : %s\" % \"{0:.3%}\".format(np.mean(gnbrecall_v2)))"
      ],
      "execution_count": 74,
      "outputs": [
        {
          "output_type": "stream",
          "text": [
            "F1 Score Random F.    : 71.251% \tPrecision Random F.   : 72.413% \tRecall Random F.   : 73.667%\n",
            "F1 Score SVM          : 73.667% \tPrecision SVM         : 82.524% \tRecall SVM         : 71.000%\n",
            "F1 Score Naive Bayes  : 67.538% \tPrecision Naive Bayes : 52.042% \tRecall Naive Bayes : 98.000%\n"
          ],
          "name": "stdout"
        }
      ]
    },
    {
      "cell_type": "markdown",
      "metadata": {
        "id": "6A4PlRclC-ok",
        "colab_type": "text"
      },
      "source": [
        "Para o dataset optimizado o modelo com melhor desempenho foi o SVM, apesar de a diferença de F1 score para o modelo Random Forest ser quase inexistente. Este modelo destaca-se tambem a nível de precisão, conseguindo tambem obter um resultado aceitável a nivel de cobertura."
      ]
    },
    {
      "cell_type": "code",
      "metadata": {
        "id": "llK39tdrDkoz",
        "colab_type": "code",
        "colab": {}
      },
      "source": [
        "y_pred = svc_model_v2.predict(new_X_test)\n",
        "\n",
        "cm = confusion_matrix(Y_test, y_pred)\n",
        "tp = cm[1,1]\n",
        "fn = cm[1,0]\n",
        "fp = cm[0,1]\n",
        "tn = cm[0,0]\n",
        "\n",
        "f1score = f1_score(Y_test, y_pred, pos_label = 1)\n",
        "precision = tp/(tp+fp)\n",
        "recall = tp/(tp+fn)"
      ],
      "execution_count": 75,
      "outputs": []
    },
    {
      "cell_type": "code",
      "metadata": {
        "id": "6gUk5xBbC0Ij",
        "colab_type": "code",
        "colab": {
          "base_uri": "https://localhost:8080/",
          "height": 68
        },
        "outputId": "35ad5bda-171f-48ee-ef5e-eefe66295adb"
      },
      "source": [
        "print(\"Confusion Matrix\")\n",
        "print(cm)"
      ],
      "execution_count": 76,
      "outputs": [
        {
          "output_type": "stream",
          "text": [
            "Confusion Matrix\n",
            "[[134   4]\n",
            " [ 10  15]]\n"
          ],
          "name": "stdout"
        }
      ]
    },
    {
      "cell_type": "code",
      "metadata": {
        "id": "_vhFMH_oD2It",
        "colab_type": "code",
        "colab": {
          "base_uri": "https://localhost:8080/",
          "height": 68
        },
        "outputId": "d1ff5b5e-2abd-41b8-bd58-ec6044a576ef"
      },
      "source": [
        "print(\"F1 Score  = %s\" % \"{0:.3%}\".format(np.mean(f1score)))\n",
        "print(\"Precision = %s\" % \"{0:.3%}\".format(np.mean(precision)))\n",
        "print(\"Recall    = %s\" % \"{0:.3%}\".format(np.mean(recall)))"
      ],
      "execution_count": 77,
      "outputs": [
        {
          "output_type": "stream",
          "text": [
            "F1 Score  = 68.182%\n",
            "Precision = 78.947%\n",
            "Recall    = 60.000%\n"
          ],
          "name": "stdout"
        }
      ]
    },
    {
      "cell_type": "markdown",
      "metadata": {
        "id": "OXcXsJk1El3e",
        "colab_type": "text"
      },
      "source": [
        "Comparado ao desempenho quando aplicado ao conjunto de treino, o modelo SVM teve um pior desempenho, diminuindo a quantidade de predições corretas.\n",
        "\n",
        "Este resultado pode ser justificado com a dificuldade a nivel computacional que existe para executar o fine-tunning de parametros para este modelo. Deste modo podemos supor que uma máquina com maior poder computacional poderia gerar um modelo SVM com um conjunto de parametros mais adequados que obtivessem melhor resultados."
      ]
    },
    {
      "cell_type": "markdown",
      "metadata": {
        "id": "vmuRWFDJFVqA",
        "colab_type": "text"
      },
      "source": [
        "# <a id='12'>12. Conclusão</a> "
      ]
    },
    {
      "cell_type": "markdown",
      "metadata": {
        "id": "x4LayeKnFb4i",
        "colab_type": "text"
      },
      "source": [
        "Após a conclusão deste notebook é possivel assumir que os resultados dos modelos gerados não foram os melhores, apesar de serem razoáveis. Podendo existir diversos motivos para estes resultados, os principais a destacar é o baixo número de exemplos contidos no dataset e também a limitação de recursos computacionais na hora de executar o fine-tunning dos parametros dos modelos.\n",
        "\n",
        "No entanto, foram alcançados outros objetivos que dizem respeito à introdução de conceitos essenciais no campo de Machine Learning. Foi possivel executar as primeiras experiências ao mesmo tempo que se trabalhava com um dataset com dados diversos, e também foi possivel explorar mais que um tipo de modelo de aprendizagem.\n",
        "\n",
        "Como próximos passos teremos o intuito de melhorar o desempenho dos nossos modelos, tentando resolver alguns dos problemas mencionados anteriormente."
      ]
    }
  ]
}